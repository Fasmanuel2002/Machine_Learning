{
 "cells": [
  {
   "cell_type": "code",
   "execution_count": 12,
   "id": "22f6e226",
   "metadata": {},
   "outputs": [],
   "source": [
    "import pandas as pd\n",
    "import numpy as np\n",
    "import cv2\n",
    "import os\n",
    "from sklearn.model_selection import train_test_split\n",
    "from sklearn.metrics import accuracy_score\n",
    "import torch\n",
    "from torch import nn\n",
    "import torch.optim as optimzer\n",
    "from sklearn.preprocessing import LabelEncoder\n",
    "from torch.utils.data import TensorDataset, DataLoader\n",
    "\n",
    "CATEGORIES = [\"buildings\", \"forest\",\n",
    "              \"glacier\", \"mountain\", \n",
    "              \"sea\", \"street\"]\n",
    "EPOCHS = 50\n",
    "TEST_SIZE = 0.30"
   ]
  },
  {
   "cell_type": "code",
   "execution_count": 13,
   "id": "34ed297e",
   "metadata": {},
   "outputs": [],
   "source": [
    "def load_Intel_Image(dataDirectory : str):\n",
    "    images = []\n",
    "    labels = []\n",
    "    for SingleCategory in CATEGORIES:\n",
    "        category = os.path.join(dataDirectory, str(SingleCategory))\n",
    "        \n",
    "        for image in os.listdir(category):\n",
    "            img_path = os.path.join(category, image)\n",
    "            final_image = cv2.imread(img_path)\n",
    "            \n",
    "            if final_image is None:\n",
    "                raise Exception(\"Problem with the images\")\n",
    "            img = cv2.resize(final_image, (64,64)) #Making the Picture 64 x 64\n",
    "            images.append(img)\n",
    "            labels.append(SingleCategory)\n",
    "    \n",
    "    return (np.array(images), np.array(labels))\n",
    "\n",
    "            \n",
    "        \n",
    "            "
   ]
  },
  {
   "cell_type": "code",
   "execution_count": 14,
   "id": "0e443734",
   "metadata": {},
   "outputs": [
    {
     "name": "stdout",
     "output_type": "stream",
     "text": [
      "This is the shape of X_train: (9823, 64, 64, 3)\n",
      "This is the shape of Y_train: (9823,)\n",
      "This is the shape of X_test: (4211, 64, 64, 3)\n",
      "This is the shape of Y_Test: (4211,)\n"
     ]
    }
   ],
   "source": [
    "images, labels = load_Intel_Image(\"seg_train/\")\n",
    "\n",
    "X_train, X_test, Y_train, Y_test = train_test_split(\n",
    "    np.array(images), np.array(labels), test_size=TEST_SIZE, random_state=42\n",
    ")\n",
    "\n",
    "print(f\"This is the shape of X_train: {X_train.shape}\")\n",
    "print(f\"This is the shape of Y_train: {Y_train.shape}\")\n",
    "print(f\"This is the shape of X_test: {X_test.shape}\")\n",
    "print(f\"This is the shape of Y_Test: {Y_test.shape}\")"
   ]
  },
  {
   "cell_type": "code",
   "execution_count": 15,
   "id": "46ab2666",
   "metadata": {},
   "outputs": [],
   "source": [
    "#1) Normalize Input Pixels\n",
    "X_train = X_train.astype(\"float32\") / 255.0\n",
    "X_test = X_test.astype(\"float32\") / 255.0\n",
    "\n",
    "\n",
    "#2) We need to Transpose the Matrix because TF (M, H, W, NC) -> Pytorch (M, NC, H, W)\n",
    "X_train = np.transpose(X_train, (0,3,1,2))\n",
    "X_test = np.transpose(X_test, (0,3,1,2))\n",
    "\n",
    "#3) Codificate the Y to Labels Encoder\n",
    "Label_Encoder = LabelEncoder()\n",
    "Y_train_encoded = Label_Encoder.fit_transform(Y_train)\n",
    "Y_test_encoded = Label_Encoder.fit_transform(Y_test)\n",
    "\n",
    "#4) Convert tensor of Pytorch(The numpy array of TensorFlow)\n",
    "x_train = torch.tensor(X_train, dtype=torch.float32)\n",
    "y_train = torch.tensor(Y_train_encoded, dtype=torch.long)\n",
    "x_test = torch.tensor(X_test, dtype=torch.float32)\n",
    "y_test = torch.tensor(Y_test_encoded, dtype=torch.long)"
   ]
  },
  {
   "cell_type": "code",
   "execution_count": 16,
   "id": "068d8806",
   "metadata": {},
   "outputs": [],
   "source": [
    "train_Dataset = TensorDataset(x_train, y_train)\n",
    "test_DataSet = TensorDataset(x_test, y_test)\n",
    "\n",
    "train_loader = DataLoader(train_Dataset, batch_size=64, shuffle=True)\n",
    "test_loader = DataLoader(test_DataSet, batch_size=64, shuffle=True)\n"
   ]
  },
  {
   "cell_type": "code",
   "execution_count": null,
   "id": "28fc9f83",
   "metadata": {},
   "outputs": [],
   "source": [
    "class CNN_Model(nn.Module):\n",
    "    def __init__(self, num_classes=6):\n",
    "        super(CNN_Model, self).__init__()\n",
    "        \n",
    "        #First Block\n",
    "        self.zero_pad = nn.ZeroPad2d(3) #Padding (3,3s)\n",
    "        self.conv1 = nn.Conv2d(in_channels=3, out_channels=64, kernel_size=7, stride=2)\n",
    "        self.bn1 = nn.BatchNorm2d(64)\n",
    "        self.pool1 = nn.MaxPool2d(kernel_size=3, stride=2)\n",
    "        \n",
    "        #Second Block\n",
    "        self.covn2 = nn.Conv2d(in_channels=64, out_channels=32, kernel_size=4, stride=2)\n",
    "        self.bn2 = nn.BatchNorm2d(32)\n",
    "        self.pool2 = nn.MaxPool2d(kernel_size=3, stride=2, padding=1)\n",
    "        \n",
    "        #Third Block\n",
    "        self.conv3 = nn.Conv2d(in_channels=32, out_channels=32, kernel_size=2)\n",
    "        self.bn3 = nn.BatchNorm2d(32)\n",
    "        self.pool3 = nn.MaxPool2d(kernel_size=3, stride=1,padding=1)\n",
    "        \n",
    "        self.fc = nn.Linear(32 * 2 * 2, num_classes)\n",
    "        "
   ]
  },
  {
   "cell_type": "markdown",
   "id": "2758d174",
   "metadata": {},
   "source": []
  }
 ],
 "metadata": {
  "kernelspec": {
   "display_name": "Python 3",
   "language": "python",
   "name": "python3"
  },
  "language_info": {
   "codemirror_mode": {
    "name": "ipython",
    "version": 3
   },
   "file_extension": ".py",
   "mimetype": "text/x-python",
   "name": "python",
   "nbconvert_exporter": "python",
   "pygments_lexer": "ipython3",
   "version": "3.11.9"
  }
 },
 "nbformat": 4,
 "nbformat_minor": 5
}
