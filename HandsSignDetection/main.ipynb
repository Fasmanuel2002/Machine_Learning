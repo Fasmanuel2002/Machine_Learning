{
 "cells": [
  {
   "cell_type": "code",
   "execution_count": null,
   "id": "fbd3f691",
   "metadata": {},
   "outputs": [],
   "source": []
  },
  {
   "cell_type": "code",
   "execution_count": 44,
   "id": "6864155c",
   "metadata": {},
   "outputs": [],
   "source": [
    "import pandas as pd\n",
    "import numpy as np\n",
    "import tensorflow as TF\n",
    "from typing import Tuple, List\n",
    "import cv2\n",
    "import os\n",
    "from sklearn.model_selection import train_test_split\n",
    "CATEGORIES = [0, 1, 2, 3, 4, 5]\n",
    "EPOCHS = 25\n",
    "TEST = 0.3"
   ]
  },
  {
   "cell_type": "code",
   "execution_count": 45,
   "id": "146a52f8",
   "metadata": {},
   "outputs": [],
   "source": [
    "def load_signs_dataset(dataDir : str): # type: ignore\n",
    "    images = []\n",
    "    labels = []\n",
    "    for SingleCategory in CATEGORIES:\n",
    "        category = os.path.join(dataDir, str(SingleCategory))\n",
    "        \n",
    "        for image in os.listdir(category):\n",
    "            img_path = os.path.join(category, image)\n",
    "            finalImage = cv2.imread(img_path)\n",
    "            \n",
    "            if finalImage is not None:\n",
    "                img = cv2.resize(finalImage, (64, 64))\n",
    "                images.append(img)\n",
    "                labels.append(SingleCategory)\n",
    "    \n",
    "    return (np.array(images), np.array(labels))\n",
    "                "
   ]
  },
  {
   "cell_type": "code",
   "execution_count": 46,
   "id": "7190cd0a",
   "metadata": {},
   "outputs": [
    {
     "name": "stdout",
     "output_type": "stream",
     "text": [
      "(865, 64, 64, 3)\n",
      "(372, 64, 64, 3)\n",
      "(865,)\n",
      "(372,)\n"
     ]
    }
   ],
   "source": [
    "images, labels = load_signs_dataset(\"DataSet/archive\")\n",
    "\n",
    "X_train_orig, Y_train_orig, X_test_orig, Y_test_orig= train_test_split(\n",
    "    np.array(images), np.array(labels), test_size=TEST, train_size=1-TEST\n",
    ")\n",
    "\n",
    "print(X_train_orig.shape)\n",
    "print(Y_train_orig.shape)\n",
    "print(X_test_orig.shape)\n",
    "print(Y_test_orig.shape)"
   ]
  },
  {
   "cell_type": "code",
   "execution_count": null,
   "id": "f85162a0",
   "metadata": {},
   "outputs": [],
   "source": [
    "def model(input_shape):\n",
    "    input_img = TF.keras.Input(shape=input_shape)\n",
    "    Z1 = TF.keras.layers.Conv2D(filters=8, kernel_size=(4,4), padding=\"same\")(input_img)\n",
    "    \n",
    "    A1 = TF.keras.layers.ReLU()(Z1)\n",
    "    \n",
    "    P1 = TF.keras.layers.MaxPool2D(pool_size=(8,8), strides=8, padding=\"same\")(A1)\n",
    "    \n",
    "    Z2 = TF.keras.layers.Conv2D(filters=16, kernel_size=(2,2), strides=1, padding=\"same\")(P1)\n",
    "    \n",
    "    A2 = TF.keras.layers.ReLU()(Z2)\n",
    "    \n",
    "    P2 = TF.keras.layers.MaxPool2D(pool_size=(4,4), strides=4, padding=\"same\")(A2)\n",
    "    \n",
    "    \n",
    "    F = TF.keras.layers.Flatten()(P2)\n",
    "    \n",
    "    outpus = TF.keras.layers.Dense(units= 12, activation=\"softmax\")(F)\n",
    "    \n",
    "    model = TF.keras.Model(input_img,outpus)\n",
    "    return model"
   ]
  }
 ],
 "metadata": {
  "kernelspec": {
   "display_name": "Python 3",
   "language": "python",
   "name": "python3"
  },
  "language_info": {
   "codemirror_mode": {
    "name": "ipython",
    "version": 3
   },
   "file_extension": ".py",
   "mimetype": "text/x-python",
   "name": "python",
   "nbconvert_exporter": "python",
   "pygments_lexer": "ipython3",
   "version": "3.8.10"
  }
 },
 "nbformat": 4,
 "nbformat_minor": 5
}
