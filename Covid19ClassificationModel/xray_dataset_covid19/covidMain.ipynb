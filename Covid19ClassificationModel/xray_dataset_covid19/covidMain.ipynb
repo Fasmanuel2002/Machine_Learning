{
 "cells": [
  {
   "cell_type": "code",
   "execution_count": 1,
   "id": "d96ccb76",
   "metadata": {},
   "outputs": [
    {
     "name": "stderr",
     "output_type": "stream",
     "text": [
      "2025-09-08 20:05:39.390515: I tensorflow/core/platform/cpu_feature_guard.cc:210] This TensorFlow binary is optimized to use available CPU instructions in performance-critical operations.\n",
      "To enable the following instructions: AVX2 AVX512F AVX512_VNNI FMA, in other operations, rebuild TensorFlow with the appropriate compiler flags.\n"
     ]
    }
   ],
   "source": [
    "import pandas as pd\n",
    "import numpy as np\n",
    "from sklearn.model_selection import train_test_split\n",
    "from sklearn.preprocessing import StandardScaler\n",
    "import tensorflow as Tf\n",
    "import keras\n",
    "import cv2\n",
    "from typing import Tuple\n",
    "import os\n",
    "import matplotlib.pyplot as plt\n",
    "\n",
    "CATEGORIES = [\"NORMAL\", \"PNEUMONIA\"]\n",
    "EPOCHS = 50\n",
    "TEST_SET = 0.3"
   ]
  },
  {
   "cell_type": "code",
   "execution_count": null,
   "id": "ad30c8c9",
   "metadata": {},
   "outputs": [],
   "source": [
    "def LoadDataFromDirectory(dataDir : str):\n",
    "    images = []\n",
    "    labels = []\n",
    "    for Category in CATEGORIES:\n",
    "        singleCategory = os.path.join(dataDir, str(Category))\n",
    "        \n",
    "        for image in os.listdir(singleCategory):\n",
    "            img"
   ]
  }
 ],
 "metadata": {
  "kernelspec": {
   "display_name": "Python 3",
   "language": "python",
   "name": "python3"
  },
  "language_info": {
   "codemirror_mode": {
    "name": "ipython",
    "version": 3
   },
   "file_extension": ".py",
   "mimetype": "text/x-python",
   "name": "python",
   "nbconvert_exporter": "python",
   "pygments_lexer": "ipython3",
   "version": "3.11.5"
  }
 },
 "nbformat": 4,
 "nbformat_minor": 5
}
