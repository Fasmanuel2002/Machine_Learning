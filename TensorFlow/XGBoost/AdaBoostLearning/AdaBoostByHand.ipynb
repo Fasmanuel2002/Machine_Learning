{
 "cells": [
  {
   "cell_type": "code",
   "execution_count": 2,
   "id": "8bdf4c24",
   "metadata": {},
   "outputs": [],
   "source": [
    "import numpy as np\n",
    "import pandas as pd\n",
    "from sklearn.tree import DecisionTreeClassifier\n",
    "\n",
    "# Dataset pequeño (X1, X2, y)\n",
    "data = {\n",
    "    \"X1\": [1, 2, 3, 4, 5, 6],\n",
    "    \"X2\": [2, 1, 2, 3, 3, 2],\n",
    "    \"y\":  [-1, -1, 1, 1, 1, -1]  # etiquetas binarias (-1 y 1)\n",
    "}"
   ]
  },
  {
   "cell_type": "code",
   "execution_count": 4,
   "id": "84d1d02e",
   "metadata": {},
   "outputs": [],
   "source": [
    "def adaBoost_train(X, y, n_estimators=10):\n",
    "    #The number of samples in this case its 1/6\n",
    "    n_samples = X.shape[0]\n",
    "    \n",
    "    W = np.ones(n_samples) / n_samples\n",
    "    \n",
    "    #The estimators\n",
    "    models = []\n",
    "    \n",
    "    #The number of alphas \"the amount say\"\n",
    "    alphas = []\n",
    "    \n",
    "    for single_stump in range(n_estimators):\n",
    "        #One Node and two lines\n",
    "        stump = DecisionTreeClassifier(max_depth=1)\n",
    "        \n",
    "        #We are going to predict and see the number of errors\n",
    "        stump.fit(X, y, sample_weight=W)\n",
    "        \n",
    "        #The number of error(that we had, the number we are going to predict)\n",
    "        y_prediction = stump.predict(X)\n",
    "        \n",
    "        error_per_stump = np.sum(W * (y_prediction != y)) / np.sum(W)\n",
    "        \n",
    "        \n",
    "        \n",
    "        amount_to_say = np.log( (1-error_per_stump)/ error_per_stump + 1e-10) / 2\n",
    "        \n",
    "        #actualizar samples\n",
    "        W = W * np.exp(amount_to_say * (y_prediction != y))\n",
    "        W /= np.sum(W) #Normalize the dataset\n",
    "        \n",
    "        models.append(stump)\n",
    "        alphas.append(amount_to_say)\n",
    "        \n",
    "    return models, alphas\n",
    "        \n",
    "        "
   ]
  },
  {
   "cell_type": "code",
   "execution_count": 5,
   "id": "c4538083",
   "metadata": {},
   "outputs": [],
   "source": [
    "def adaBoost_predict(X, models, alphas):\n",
    "    #We initialize the prediction\n",
    "    final_pred = np.zeros(X.shape[0])\n",
    "    \n",
    "    #We sum every stump to make the prediction that has more amount to say\n",
    "    for stump, alpha in zip(models, alphas):\n",
    "        final_pred += alpha * stump.predict(X)\n",
    "    \n",
    "    return np.sign(final_pred)"
   ]
  },
  {
   "cell_type": "code",
   "execution_count": 6,
   "id": "cb0e76ed",
   "metadata": {},
   "outputs": [
    {
     "name": "stdout",
     "output_type": "stream",
     "text": [
      "[-1. -1.  1.  1.  1. -1.]\n"
     ]
    }
   ],
   "source": [
    "X = pd.DataFrame({\n",
    "    \"X1\":[1, 2, 3, 4, 5, 6],\n",
    "    \"X2\":[2, 1, 2, 3, 3, 2]\n",
    "}                \n",
    ")\n",
    "y = np.array([-1, -1, 1, 1, 1, -1])\n",
    "\n",
    "#We are training the adaBoost with 10 stumps\n",
    "models, alphas = adaBoost_train(X, y, n_estimators=10)\n",
    "y_pred = adaBoost_predict(X, models, alphas)\n",
    "\n",
    "print(y_pred)"
   ]
  },
  {
   "cell_type": "code",
   "execution_count": null,
   "id": "8e249276",
   "metadata": {},
   "outputs": [],
   "source": []
  }
 ],
 "metadata": {
  "kernelspec": {
   "display_name": "Python 3",
   "language": "python",
   "name": "python3"
  },
  "language_info": {
   "codemirror_mode": {
    "name": "ipython",
    "version": 3
   },
   "file_extension": ".py",
   "mimetype": "text/x-python",
   "name": "python",
   "nbconvert_exporter": "python",
   "pygments_lexer": "ipython3",
   "version": "3.11.9"
  }
 },
 "nbformat": 4,
 "nbformat_minor": 5
}
