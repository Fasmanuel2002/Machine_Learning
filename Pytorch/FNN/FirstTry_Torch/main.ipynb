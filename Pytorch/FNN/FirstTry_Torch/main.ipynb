{
 "cells": [
  {
   "cell_type": "code",
   "execution_count": 5,
   "id": "d722ee65",
   "metadata": {},
   "outputs": [],
   "source": [
    "import torch\n",
    "from torch import nn\n",
    "import torch.optim as optim\n",
    "from torch.utils.data import TensorDataset, DataLoader\n",
    "\n",
    "import pandas as pd\n",
    "import numpy as np\n",
    "from sklearn.model_selection import train_test_split\n",
    "from sklearn.preprocessing import StandardScaler\n",
    "from sklearn.metrics import mean_squared_error, mean_absolute_error"
   ]
  },
  {
   "cell_type": "code",
   "execution_count": 7,
   "id": "c512d210",
   "metadata": {},
   "outputs": [
    {
     "name": "stdout",
     "output_type": "stream",
     "text": [
      "   Rings Sex  Length  ...  ShuckedWeight  VisceraWeight  ShellWeight\n",
      "0     15   M   0.455  ...         0.2245         0.1010        0.150\n",
      "1      7   M   0.350  ...         0.0995         0.0485        0.070\n",
      "2      9   F   0.530  ...         0.2565         0.1415        0.210\n",
      "3     10   M   0.440  ...         0.2155         0.1140        0.155\n",
      "4      7   I   0.330  ...         0.0895         0.0395        0.055\n",
      "\n",
      "[5 rows x 9 columns]\n"
     ]
    },
    {
     "name": "stderr",
     "output_type": "stream",
     "text": [
      "/var/folders/64/_d7wbs111535lmdv26qfwp000000gn/T/ipykernel_15844/1162198912.py:4: FutureWarning: Downcasting behavior in `replace` is deprecated and will be removed in a future version. To retain the old behavior, explicitly call `result.infer_objects(copy=False)`. To opt-in to the future behavior, set `pd.set_option('future.no_silent_downcasting', True)`\n",
      "  df[\"Sex\"] = df[\"Sex\"].replace({\"M\":0, \"F\":1, \"I\":2})\n"
     ]
    }
   ],
   "source": [
    "df = pd.read_csv(\"abalone.csv\")\n",
    "print(df.head())\n",
    "\n",
    "df[\"Sex\"] = df[\"Sex\"].replace({\"M\":0, \"F\":1, \"I\":2})\n"
   ]
  },
  {
   "cell_type": "code",
   "execution_count": 10,
   "id": "064830aa",
   "metadata": {},
   "outputs": [],
   "source": [
    "Y = df[\"Rings\"].values\n",
    "X = df.iloc[:, 1:]"
   ]
  },
  {
   "cell_type": "code",
   "execution_count": 11,
   "id": "a01de3bd",
   "metadata": {},
   "outputs": [],
   "source": [
    "scaler = StandardScaler()\n",
    "X_normalize = scaler.fit_transform(X)"
   ]
  },
  {
   "cell_type": "code",
   "execution_count": 12,
   "id": "0c01b196",
   "metadata": {},
   "outputs": [
    {
     "name": "stdout",
     "output_type": "stream",
     "text": [
      "This is the shape of X_train: (2923, 8)\n",
      "This is the shape of Y_train: (2923,)\n",
      "This is the shape of X_test: (1254, 8)\n",
      "This is the shape of Y_Test: (1254,)\n"
     ]
    }
   ],
   "source": [
    "X_train, X_test, Y_train, Y_test = train_test_split(\n",
    "    X_normalize, Y,train_size=0.70, test_size=0.30, random_state=42\n",
    ")\n",
    "\n",
    "print(f\"This is the shape of X_train: {X_train.shape}\")\n",
    "print(f\"This is the shape of Y_train: {Y_train.shape}\")\n",
    "print(f\"This is the shape of X_test: {X_test.shape}\")\n",
    "print(f\"This is the shape of Y_Test: {Y_test.shape}\")"
   ]
  },
  {
   "cell_type": "code",
   "execution_count": 14,
   "id": "80623679",
   "metadata": {},
   "outputs": [],
   "source": [
    "#Convert tensors of Pytorch(the numpy.array of tensorflow)\n",
    "\n",
    "x_train = torch.tensor(X_train, dtype=torch.float32)\n",
    "y_train = torch.tensor(Y_train, dtype=torch.float32)\n",
    "x_test = torch.tensor(X_test, dtype=torch.float32)\n",
    "y_test = torch.tensor(Y_test, dtype=torch.float32)\n",
    "\n",
    "#Making the DataSet , because needs to do it\n",
    "train_dataset = TensorDataset(x_train, y_train)\n",
    "train_loader = DataLoader(train_dataset, batch_size=64, shuffle=True)"
   ]
  },
  {
   "cell_type": "code",
   "execution_count": null,
   "id": "4e0f802c",
   "metadata": {},
   "outputs": [],
   "source": [
    "#This is defining the function like keras or TensorFlow\n",
    "class FNN_Model_Abalone(nn.Module):\n",
    "    def __init__(self, input_size, output_size):\n",
    "        super(FNN_Model_Abalone, self).__init__()\n",
    "        self.network = nn.Sequential(\n",
    "            nn.Linear(input_size, 256),\n",
    "            nn.ReLU(),\n",
    "            nn.Linear(256, 128),\n",
    "            nn.ReLU(),\n",
    "            nn.Linear(128, output_size)\n",
    "        )\n",
    "        \n",
    "    def foward_propagation(self, x):\n",
    "        return self.network(x)"
   ]
  }
 ],
 "metadata": {
  "kernelspec": {
   "display_name": "Python 3",
   "language": "python",
   "name": "python3"
  },
  "language_info": {
   "codemirror_mode": {
    "name": "ipython",
    "version": 3
   },
   "file_extension": ".py",
   "mimetype": "text/x-python",
   "name": "python",
   "nbconvert_exporter": "python",
   "pygments_lexer": "ipython3",
   "version": "3.11.9"
  }
 },
 "nbformat": 4,
 "nbformat_minor": 5
}
