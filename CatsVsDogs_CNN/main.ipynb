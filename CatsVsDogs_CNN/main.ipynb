{
 "cells": [
  {
   "cell_type": "code",
   "execution_count": 9,
   "id": "a93c88c1",
   "metadata": {},
   "outputs": [],
   "source": [
    "import pandas as pd\n",
    "import numpy as np\n",
    "import os\n",
    "import keras\n",
    "import tensorflow\n",
    "from sklearn.model_selection import train_test_split\n",
    "import matplotlib.pyplot as plt\n",
    "import cv2\n",
    "CATEGORIES = ['cats', 'dogs']\n",
    "EPOCHS = 100\n",
    "TEST_SET = 0.30\n"
   ]
  },
  {
   "cell_type": "code",
   "execution_count": 10,
   "id": "4a8019d2",
   "metadata": {},
   "outputs": [],
   "source": [
    "def LoadDataFromDirectory(dataDir : str):\n",
    "    images = []\n",
    "    labels = []\n",
    "    for Category in CATEGORIES:\n",
    "        singleCategory = os.path.join(dataDir, str(Category))\n",
    "        \n",
    "        for image in os.listdir(singleCategory):\n",
    "            imagsPaths = os.path.join(singleCategory, image)\n",
    "            \n",
    "            finalImages = cv2.imread(imagsPaths)\n",
    "            \n",
    "            if finalImages is None:\n",
    "                raise Exception(\"The directory is null or Empty\")\n",
    "            \n",
    "            #64 x 64\n",
    "            img = cv2.resize(finalImages, (64,64))\n",
    "            images.append(img)\n",
    "            labels.append(CATEGORIES.index(Category))\n",
    "    \n",
    "    return (np.array(images), np.array(labels))\n",
    "            \n",
    "        "
   ]
  },
  {
   "cell_type": "code",
   "execution_count": 12,
   "id": "1528fc86",
   "metadata": {},
   "outputs": [
    {
     "name": "stdout",
     "output_type": "stream",
     "text": [
      "X train shape: (14000, 64, 64, 3)\n",
      "Y train shape: (14000,)\n",
      "X test shape: (6000, 64, 64, 3)\n",
      "Y test shape: (6000,)\n"
     ]
    }
   ],
   "source": [
    "images, labels = LoadDataFromDirectory(\"CatsVsDogs/train\")\n",
    "\n",
    "X_train, X_test, Y_train, Y_test = train_test_split(\n",
    "    np.array(images), np.array(labels), test_size=TEST_SET, shuffle=True\n",
    ")\n",
    "\n",
    "print(f\"X train shape: {X_train.shape}\")\n",
    "print(f\"Y train shape: {Y_train.shape}\")\n",
    "print(f\"X test shape: {X_test.shape}\")\n",
    "print(f\"Y test shape: {Y_test.shape}\")\n"
   ]
  },
  {
   "cell_type": "code",
   "execution_count": null,
   "id": "cf1bcbcd",
   "metadata": {},
   "outputs": [],
   "source": [
    "def RestNet50(input_shape = (64,64,3), classes=2, training=False):\n",
    "    X_input = keras.Input(shape=input_shape)\n",
    "    \n",
    "    X = keras.layers.ZeroPadding2D((3,3))(X_input)\n",
    "    \n",
    "    #First Block\n",
    "    Z1 = keras.layers.Conv2D(filters=64, kernel_size=(7,7), strides=2)(X)\n",
    "    B1 = keras.layers.BatchNormalization(axis=3)(Z1)\n",
    "    A1 = keras.layers.ReLU()(B1)\n",
    "    P1 = keras.layers.MaxPool2D(pool_size=(3,3), strides=(2,2), padding=\"valid\")(A1)\n",
    "    \n",
    "    #Second Block\n",
    "    Z2 = keras.layers.Conv2D(filters=32, kernel_size=(4,4), strides=2)(P1)\n",
    "    B2 = keras.layers.BatchNormalization(axis=3)(Z2)\n",
    "    A2 = keras.layers.ReLU()(B2)\n",
    "    P2 = keras.layers.MaxPool2D(pool_size=(3,3), strides=(2,2), padding=\"same\")(A2)\n",
    "    \n",
    "    X_FLATTEN = keras.layers.Flatten()(P2)\n",
    "    output = keras.layers.Dense(units=classes, activation=\"softmax\")(X_FLATTEN)\n",
    "    \n",
    "    model = keras.Model(X_input, output)\n",
    "    \n",
    "    return model\n",
    "    "
   ]
  }
 ],
 "metadata": {
  "kernelspec": {
   "display_name": "Python 3",
   "language": "python",
   "name": "python3"
  },
  "language_info": {
   "codemirror_mode": {
    "name": "ipython",
    "version": 3
   },
   "file_extension": ".py",
   "mimetype": "text/x-python",
   "name": "python",
   "nbconvert_exporter": "python",
   "pygments_lexer": "ipython3",
   "version": "3.11.5"
  }
 },
 "nbformat": 4,
 "nbformat_minor": 5
}
