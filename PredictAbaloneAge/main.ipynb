{
 "cells": [
  {
   "cell_type": "code",
   "execution_count": 9,
   "id": "420d5137",
   "metadata": {},
   "outputs": [],
   "source": [
    "import pandas as pd\n",
    "import tensorflow as tf\n",
    "from sklearn.model_selection import train_test_split\n",
    "from sklearn.metrics import accuracy_score\n",
    "import matplotlib.pyplot as plt\n",
    "import numpy as np\n"
   ]
  },
  {
   "cell_type": "code",
   "execution_count": 10,
   "id": "3bf8b546",
   "metadata": {},
   "outputs": [],
   "source": [
    "dataFrame = pd.read_csv(\"abalone.csv\")\n",
    "dataFrame[\"Sex\"] = dataFrame[\"Sex\"].replace({\"M\":0, \"F\":1})\n",
    "Y = dataFrame[\"Rings\"]\n",
    "X = dataFrame.iloc[:, 1:9].values\n"
   ]
  },
  {
   "cell_type": "code",
   "execution_count": null,
   "id": "e2190d4e",
   "metadata": {},
   "outputs": [
    {
     "ename": "SyntaxError",
     "evalue": "invalid syntax (683336499.py, line 2)",
     "output_type": "error",
     "traceback": [
      "\u001b[0;36m  Cell \u001b[0;32mIn[11], line 2\u001b[0;36m\u001b[0m\n\u001b[0;31m    tensorFlowModel = TF.\u001b[0m\n\u001b[0m                         ^\u001b[0m\n\u001b[0;31mSyntaxError\u001b[0m\u001b[0;31m:\u001b[0m invalid syntax\n"
     ]
    }
   ],
   "source": [
    "\n",
    "def model():\n",
    "    tensorFlowModel = tf.keras.layers.Dense()"
   ]
  },
  {
   "cell_type": "code",
   "execution_count": null,
   "id": "160fd3cf",
   "metadata": {},
   "outputs": [],
   "source": []
  }
 ],
 "metadata": {
  "kernelspec": {
   "display_name": "Python 3",
   "language": "python",
   "name": "python3"
  },
  "language_info": {
   "codemirror_mode": {
    "name": "ipython",
    "version": 3
   },
   "file_extension": ".py",
   "mimetype": "text/x-python",
   "name": "python",
   "nbconvert_exporter": "python",
   "pygments_lexer": "ipython3",
   "version": "3.11.5"
  }
 },
 "nbformat": 4,
 "nbformat_minor": 5
}
