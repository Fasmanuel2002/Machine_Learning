{
 "cells": [
  {
   "cell_type": "code",
   "execution_count": 20,
   "id": "534ee208",
   "metadata": {},
   "outputs": [],
   "source": [
    "import numpy as np\n",
    "import pandas as pd\n",
    "from sklearn.datasets import make_classification\n",
    "from sklearn.model_selection import train_test_split\n",
    "from sklearn.ensemble import AdaBoostClassifier\n",
    "from sklearn.tree import DecisionTreeClassifier\n",
    "from sklearn.metrics import accuracy_score\n"
   ]
  },
  {
   "cell_type": "code",
   "execution_count": 21,
   "id": "90f5a5f6",
   "metadata": {},
   "outputs": [],
   "source": [
    "#Here we create the data set, that has 100,000 samples and its going to be binary or 1 or 0\n",
    "\n",
    "X , y = make_classification(\n",
    "    n_samples=100000,\n",
    "    n_features=20,\n",
    "    n_informative=14,\n",
    "    n_redundant=6,\n",
    "    n_classes=2, #Binary\n",
    "    random_state=42\n",
    ")"
   ]
  },
  {
   "cell_type": "code",
   "execution_count": 22,
   "id": "de54c9da",
   "metadata": {},
   "outputs": [],
   "source": [
    "#The its -1 or 1, there are the 2 classes\n",
    "y = np.where(y == 0, -1,1)"
   ]
  },
  {
   "cell_type": "code",
   "execution_count": 23,
   "id": "d5f9e8a3",
   "metadata": {},
   "outputs": [
    {
     "name": "stderr",
     "output_type": "stream",
     "text": [
      "/Library/Frameworks/Python.framework/Versions/3.11/lib/python3.11/site-packages/sklearn/ensemble/_weight_boosting.py:527: FutureWarning: The SAMME.R algorithm (the default) is deprecated and will be removed in 1.6. Use the SAMME algorithm to circumvent this warning.\n",
      "  warnings.warn(\n"
     ]
    },
    {
     "name": "stdout",
     "output_type": "stream",
     "text": [
      "The prediction of the model in test is: 0.8799\n"
     ]
    }
   ],
   "source": [
    "df = pd.DataFrame(X, columns=[f\"X{i+1}\" for i in range(X.shape[1])])\n",
    "#The one we want to predict\n",
    "df[\"y\"] = y\n",
    "\n",
    "X_train,X_test,Y_train,Y_test = train_test_split(\n",
    "    df.drop('y', axis=1), df['y'], test_size=0.2, random_state=42)\n",
    "\n",
    "#We create the stumps so it can know the weights and know to upgrade\n",
    "stump = DecisionTreeClassifier(max_depth=1)\n",
    "#We are creating 100 stumps so it can learn the 100,000 examples\n",
    "amount_to_say = AdaBoostClassifier(stump, n_estimators=150, random_state=42)\n",
    "\n",
    "#Fit data in the amaount to say ((np.log(1-TotalError)/Error) / 2))\n",
    "amount_to_say.fit(X_train, Y_train)\n",
    "\n",
    "y_pred = amount_to_say.predict(X_test)\n",
    "\n",
    "accuracy_of_amount_to_say = accuracy_score(Y_test, y_pred)\n",
    "\n",
    "print(f\"The prediction of the model in test is: {accuracy_of_amount_to_say:.4f}\")\n",
    "\n",
    "\n"
   ]
  },
  {
   "cell_type": "code",
   "execution_count": null,
   "id": "99af9f7c",
   "metadata": {},
   "outputs": [],
   "source": []
  }
 ],
 "metadata": {
  "kernelspec": {
   "display_name": "Python 3",
   "language": "python",
   "name": "python3"
  },
  "language_info": {
   "codemirror_mode": {
    "name": "ipython",
    "version": 3
   },
   "file_extension": ".py",
   "mimetype": "text/x-python",
   "name": "python",
   "nbconvert_exporter": "python",
   "pygments_lexer": "ipython3",
   "version": "3.11.9"
  }
 },
 "nbformat": 4,
 "nbformat_minor": 5
}
