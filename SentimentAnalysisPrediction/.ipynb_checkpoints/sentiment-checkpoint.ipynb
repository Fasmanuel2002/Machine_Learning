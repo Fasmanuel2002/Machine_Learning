{
 "cells": [
  {
   "cell_type": "code",
   "execution_count": 6,
   "metadata": {},
   "outputs": [],
   "source": [
    "import nltk \n",
    "import numpy as np\n",
    "import matplotlib.pyplot as plt\n",
    "import pandas as pd\n",
    "plt.style.use('ggplot')\n",
    "from nltk.sentiment import SentimentIntensityAnalyzer\n",
    "from tqdm import tqdm\n"
   ]
  },
  {
   "cell_type": "code",
   "execution_count": 7,
   "metadata": {},
   "outputs": [
    {
     "name": "stdout",
     "output_type": "stream",
     "text": [
      "I am hurting Lately I just feel like garbage. I havent left the house much in like 2 weeks, and I've been missing class. It all feels too overwhelming for me, but being at home makes me feel like trash too...I cant win. I cant sleep right either. I wake up every other hour and im so tired....\n",
      "\n",
      "I feel so angry and anxious lately too because I feel as if everyone hates me and that they're happier without me. My friends hardly talk to me lately. I see them on social media chatting and making plans to call/play games and im never included lately. Im not surprised though. Who'd want to be friends with someone as depressed and broken as me?\n",
      "\n",
      "I want to crawl in a hole and disappear :(\n"
     ]
    }
   ],
   "source": [
    "df = pd.read_csv(\"SentimentAnalysis.csv\")\n",
    "example = df['statement'][50659]\n",
    "print(example)"
   ]
  },
  {
   "cell_type": "code",
   "execution_count": 8,
   "metadata": {},
   "outputs": [
    {
     "name": "stdout",
     "output_type": "stream",
     "text": [
      "{'neg': 0.273, 'neu': 0.638, 'pos': 0.089, 'compound': -0.9853}\n",
      "I am hurting Lately I just feel like garbage. I havent left the house much in like 2 weeks, and I've been missing class. It all feels too overwhelming for me, but being at home makes me feel like trash too...I cant win. I cant sleep right either. I wake up every other hour and im so tired....\n",
      "\n",
      "I feel so angry and anxious lately too because I feel as if everyone hates me and that they're happier without me. My friends hardly talk to me lately. I see them on social media chatting and making plans to call/play games and im never included lately. Im not surprised though. Who'd want to be friends with someone as depressed and broken as me?\n",
      "\n",
      "I want to crawl in a hole and disappear :(\n"
     ]
    }
   ],
   "source": [
    "    \n",
    "sia = SentimentIntensityAnalyzer()\n",
    "print(sia.polarity_scores(example))\n",
    "print(example)"
   ]
  },
  {
   "cell_type": "code",
   "execution_count": 10,
   "metadata": {},
   "outputs": [
    {
     "name": "stderr",
     "output_type": "stream",
     "text": [
      "  1%|▍                                                                   | 293/53043 [00:00<00:26, 2003.17it/s]\n"
     ]
    },
    {
     "ename": "AttributeError",
     "evalue": "'float' object has no attribute 'encode'",
     "output_type": "error",
     "traceback": [
      "\u001b[31m---------------------------------------------------------------------------\u001b[39m",
      "\u001b[31mAttributeError\u001b[39m                            Traceback (most recent call last)",
      "\u001b[36mCell\u001b[39m\u001b[36m \u001b[39m\u001b[32mIn[10]\u001b[39m\u001b[32m, line 5\u001b[39m\n\u001b[32m      3\u001b[39m     feelings_rows = rows[\u001b[33m'\u001b[39m\u001b[33mstatement\u001b[39m\u001b[33m'\u001b[39m]\n\u001b[32m      4\u001b[39m     id_rows = rows[\u001b[33m'\u001b[39m\u001b[33mid\u001b[39m\u001b[33m'\u001b[39m]\n\u001b[32m----> \u001b[39m\u001b[32m5\u001b[39m     res[id_rows] = \u001b[43msia\u001b[49m\u001b[43m.\u001b[49m\u001b[43mpolarity_scores\u001b[49m\u001b[43m(\u001b[49m\u001b[43mfeelings_rows\u001b[49m\u001b[43m)\u001b[49m\n\u001b[32m      7\u001b[39m \u001b[38;5;28mprint\u001b[39m(res)\n\u001b[32m     10\u001b[39m res\n",
      "\u001b[36mFile \u001b[39m\u001b[32m/Library/Frameworks/Python.framework/Versions/3.13/lib/python3.13/site-packages/nltk/sentiment/vader.py:366\u001b[39m, in \u001b[36mSentimentIntensityAnalyzer.polarity_scores\u001b[39m\u001b[34m(self, text)\u001b[39m\n\u001b[32m    355\u001b[39m \u001b[38;5;250m\u001b[39m\u001b[33;03m\"\"\"\u001b[39;00m\n\u001b[32m    356\u001b[39m \u001b[33;03mReturn a float for sentiment strength based on the input text.\u001b[39;00m\n\u001b[32m    357\u001b[39m \u001b[33;03mPositive values are positive valence, negative value are negative\u001b[39;00m\n\u001b[32m   (...)\u001b[39m\u001b[32m    363\u001b[39m \u001b[33;03m    matched as if it was a normal word in the sentence.\u001b[39;00m\n\u001b[32m    364\u001b[39m \u001b[33;03m\"\"\"\u001b[39;00m\n\u001b[32m    365\u001b[39m \u001b[38;5;66;03m# text, words_and_emoticons, is_cap_diff = self.preprocess(text)\u001b[39;00m\n\u001b[32m--> \u001b[39m\u001b[32m366\u001b[39m sentitext = \u001b[43mSentiText\u001b[49m\u001b[43m(\u001b[49m\n\u001b[32m    367\u001b[39m \u001b[43m    \u001b[49m\u001b[43mtext\u001b[49m\u001b[43m,\u001b[49m\u001b[43m \u001b[49m\u001b[38;5;28;43mself\u001b[39;49m\u001b[43m.\u001b[49m\u001b[43mconstants\u001b[49m\u001b[43m.\u001b[49m\u001b[43mPUNC_LIST\u001b[49m\u001b[43m,\u001b[49m\u001b[43m \u001b[49m\u001b[38;5;28;43mself\u001b[39;49m\u001b[43m.\u001b[49m\u001b[43mconstants\u001b[49m\u001b[43m.\u001b[49m\u001b[43mREGEX_REMOVE_PUNCTUATION\u001b[49m\n\u001b[32m    368\u001b[39m \u001b[43m\u001b[49m\u001b[43m)\u001b[49m\n\u001b[32m    369\u001b[39m sentiments = []\n\u001b[32m    370\u001b[39m words_and_emoticons = sentitext.words_and_emoticons\n",
      "\u001b[36mFile \u001b[39m\u001b[32m/Library/Frameworks/Python.framework/Versions/3.13/lib/python3.13/site-packages/nltk/sentiment/vader.py:270\u001b[39m, in \u001b[36mSentiText.__init__\u001b[39m\u001b[34m(self, text, punc_list, regex_remove_punctuation)\u001b[39m\n\u001b[32m    268\u001b[39m \u001b[38;5;28;01mdef\u001b[39;00m\u001b[38;5;250m \u001b[39m\u001b[34m__init__\u001b[39m(\u001b[38;5;28mself\u001b[39m, text, punc_list, regex_remove_punctuation):\n\u001b[32m    269\u001b[39m     \u001b[38;5;28;01mif\u001b[39;00m \u001b[38;5;129;01mnot\u001b[39;00m \u001b[38;5;28misinstance\u001b[39m(text, \u001b[38;5;28mstr\u001b[39m):\n\u001b[32m--> \u001b[39m\u001b[32m270\u001b[39m         text = \u001b[38;5;28mstr\u001b[39m(\u001b[43mtext\u001b[49m\u001b[43m.\u001b[49m\u001b[43mencode\u001b[49m(\u001b[33m\"\u001b[39m\u001b[33mutf-8\u001b[39m\u001b[33m\"\u001b[39m))\n\u001b[32m    271\u001b[39m     \u001b[38;5;28mself\u001b[39m.text = text\n\u001b[32m    272\u001b[39m     \u001b[38;5;28mself\u001b[39m.PUNC_LIST = punc_list\n",
      "\u001b[31mAttributeError\u001b[39m: 'float' object has no attribute 'encode'"
     ]
    }
   ],
   "source": [
    "\n",
    "res = {}\n",
    "for i, rows in tqdm(df.iterrows(),total=len(df)):\n",
    "    feelings_rows = rows['statement']\n",
    "    id_rows = rows['id']\n",
    "    res[id_rows] = sia.polarity_scores(feelings_rows,)\n",
    "\n",
    "print(res)\n",
    "    \n",
    "    \n",
    "res"
   ]
  },
  {
   "cell_type": "code",
   "execution_count": null,
   "metadata": {},
   "outputs": [],
   "source": []
  },
  {
   "cell_type": "code",
   "execution_count": null,
   "metadata": {},
   "outputs": [],
   "source": []
  }
 ],
 "metadata": {
  "kernelspec": {
   "display_name": "Python 3 (ipykernel)",
   "language": "python",
   "name": "python3"
  },
  "language_info": {
   "codemirror_mode": {
    "name": "ipython",
    "version": 3
   },
   "file_extension": ".py",
   "mimetype": "text/x-python",
   "name": "python",
   "nbconvert_exporter": "python",
   "pygments_lexer": "ipython3",
   "version": "3.13.2"
  }
 },
 "nbformat": 4,
 "nbformat_minor": 4
}
