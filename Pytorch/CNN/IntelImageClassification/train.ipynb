{
 "cells": [
  {
   "cell_type": "code",
   "execution_count": 71,
   "id": "22f6e226",
   "metadata": {},
   "outputs": [],
   "source": [
    "import pandas as pd\n",
    "import numpy as np\n",
    "import cv2\n",
    "import os\n",
    "from sklearn.model_selection import train_test_split\n",
    "from sklearn.metrics import accuracy_score\n",
    "import torch\n",
    "from torch import nn\n",
    "import torch.optim as optimzer\n",
    "from sklearn.preprocessing import LabelEncoder\n",
    "from torch.utils.data import TensorDataset, DataLoader\n",
    "\n",
    "CATEGORIES = [\"buildings\", \"forest\",\n",
    "              \"glacier\", \"mountain\", \n",
    "              \"sea\", \"street\"]\n",
    "EPOCHS = 50\n",
    "TEST_SIZE = 0.30"
   ]
  },
  {
   "cell_type": "code",
   "execution_count": 72,
   "id": "34ed297e",
   "metadata": {},
   "outputs": [],
   "source": [
    "def load_Intel_Image(dataDirectory : str):\n",
    "    images = []\n",
    "    labels = []\n",
    "    for SingleCategory in CATEGORIES:\n",
    "        category = os.path.join(dataDirectory, str(SingleCategory))\n",
    "        \n",
    "        for image in os.listdir(category):\n",
    "            img_path = os.path.join(category, image)\n",
    "            final_image = cv2.imread(img_path)\n",
    "            \n",
    "            if final_image is None:\n",
    "                raise Exception(\"Problem with the images\")\n",
    "            img = cv2.resize(final_image, (64,64)) #Making the Picture 64 x 64\n",
    "            images.append(img)\n",
    "            labels.append(SingleCategory)\n",
    "    \n",
    "    return (np.array(images), np.array(labels))\n",
    "\n",
    "            \n",
    "        \n",
    "            "
   ]
  },
  {
   "cell_type": "code",
   "execution_count": 73,
   "id": "0e443734",
   "metadata": {},
   "outputs": [
    {
     "name": "stdout",
     "output_type": "stream",
     "text": [
      "This is the shape of X_train: (9823, 64, 64, 3)\n",
      "This is the shape of Y_train: (9823,)\n",
      "This is the shape of X_test: (4211, 64, 64, 3)\n",
      "This is the shape of Y_Test: (4211,)\n"
     ]
    }
   ],
   "source": [
    "images, labels = load_Intel_Image(\"seg_train/\")\n",
    "\n",
    "X_train, X_test, Y_train, Y_test = train_test_split(\n",
    "    np.array(images), np.array(labels), test_size=TEST_SIZE, random_state=42\n",
    ")\n",
    "\n",
    "print(f\"This is the shape of X_train: {X_train.shape}\")\n",
    "print(f\"This is the shape of Y_train: {Y_train.shape}\")\n",
    "print(f\"This is the shape of X_test: {X_test.shape}\")\n",
    "print(f\"This is the shape of Y_Test: {Y_test.shape}\")"
   ]
  },
  {
   "cell_type": "code",
   "execution_count": 74,
   "id": "46ab2666",
   "metadata": {},
   "outputs": [],
   "source": [
    "#1) Normalize Input Pixels\n",
    "X_train = X_train.astype(\"float32\") / 255.0\n",
    "X_test = X_test.astype(\"float32\") / 255.0\n",
    "\n",
    "\n",
    "#2) We need to Transpose the Matrix because TF (M, H, W, NC) -> Pytorch (M, NC, H, W)\n",
    "X_train = np.transpose(X_train, (0,3,1,2))\n",
    "X_test = np.transpose(X_test, (0,3,1,2))\n",
    "\n",
    "#3) Codificate the Y to Labels Encoder\n",
    "Label_Encoder = LabelEncoder()\n",
    "Y_train_encoded = Label_Encoder.fit_transform(Y_train)\n",
    "Y_test_encoded = Label_Encoder.fit_transform(Y_test)\n",
    "\n",
    "#4) Convert tensor of Pytorch(The numpy array of TensorFlow)\n",
    "x_train = torch.tensor(X_train, dtype=torch.float32)\n",
    "y_train = torch.tensor(Y_train_encoded, dtype=torch.long)\n",
    "x_test = torch.tensor(X_test, dtype=torch.float32)\n",
    "y_test = torch.tensor(Y_test_encoded, dtype=torch.long)"
   ]
  },
  {
   "cell_type": "code",
   "execution_count": 75,
   "id": "068d8806",
   "metadata": {},
   "outputs": [],
   "source": [
    "train_Dataset = TensorDataset(x_train, y_train)\n",
    "test_DataSet = TensorDataset(x_test, y_test)\n",
    "\n",
    "train_loader = DataLoader(train_Dataset, batch_size=64, shuffle=True)\n",
    "test_loader = DataLoader(test_DataSet, batch_size=64, shuffle=True)\n"
   ]
  },
  {
   "cell_type": "code",
   "execution_count": null,
   "id": "28fc9f83",
   "metadata": {},
   "outputs": [],
   "source": [
    "class CNN_Model(nn.Module):\n",
    "    def __init__(self, num_classes=6):\n",
    "        super(CNN_Model, self).__init__()\n",
    "        \n",
    "        #First Block\n",
    "        self.zero_pad = nn.ZeroPad2d(3) #Padding (3,3s)\n",
    "        self.conv1 = nn.Conv2d(in_channels=3, out_channels=64, kernel_size=7, stride=2)\n",
    "        self.bn1 = nn.BatchNorm2d(64)\n",
    "        self.pool1 = nn.MaxPool2d(kernel_size=3, stride=2)\n",
    "        self.drop1 = nn.Dropout2d(0.30)\n",
    "        \n",
    "        #Second Block\n",
    "        self.covn2 = nn.Conv2d(in_channels=64, out_channels=32, kernel_size=6, stride=2)\n",
    "        self.bn2 = nn.BatchNorm2d(32)\n",
    "        self.pool2 = nn.MaxPool2d(kernel_size=3, stride=2, padding=1)\n",
    "        self.drop2 = nn.Dropout2d(0.30)\n",
    "        #Third Block\n",
    "        self.conv3 = nn.Conv2d(in_channels=32, out_channels=32, kernel_size=2)\n",
    "        self.bn3 = nn.BatchNorm2d(32)\n",
    "        self.pool3 = nn.MaxPool2d(kernel_size=3, stride=1,padding=1)\n",
    "        \n",
    "        \n",
    "        \n",
    "        self.conv4 = nn.Conv2d(32, 16, kernel_size=2)\n",
    "        self.bn4 = nn.BatchNorm2d(16)\n",
    "        self.pool4 = nn.MaxPool2d(3, stride=1, padding=1)\n",
    "\n",
    "        \n",
    "        \n",
    "        self.fc = nn.Linear(16, num_classes)\n",
    "    \n",
    "    \n",
    "    def forward(self, x):\n",
    "        #Block 1\n",
    "        x = self.zero_pad(x)\n",
    "        x = nn.functional.relu(self.bn1(self.conv1(x)))\n",
    "        x = self.pool1(x)\n",
    "        x = self.drop1(x)\n",
    "        #Block 2\n",
    "        x = nn.functional.relu(self.bn2(self.covn2(x)))\n",
    "        x = self.pool2(x)\n",
    "        x = self.drop2(x)\n",
    "        #Block 3 \n",
    "        x = nn.functional.relu(self.bn3(self.conv3(x)))\n",
    "        x = self.pool3(x)\n",
    "        #x = self.drop3(x)        \n",
    "        \n",
    "        #Block 4\n",
    "        x = nn.functional.relu(self.bn4(self.conv4(x)))\n",
    "        x = self.pool4(x)\n",
    "        \n",
    "        \n",
    "        #Flatten and Final Block\n",
    "        x = torch.flatten(x, 1)\n",
    "        x = self.fc(x)\n",
    "        #Dim = 1 == np.sum() == 1\n",
    "\n",
    "        return x\n",
    "        \n",
    "        \n",
    "        "
   ]
  },
  {
   "cell_type": "code",
   "execution_count": 77,
   "id": "efe05912",
   "metadata": {},
   "outputs": [],
   "source": [
    "convModel = CNN_Model(num_classes=6)\n",
    "criterion = nn.CrossEntropyLoss()\n",
    "optim = optimzer.AdamW(convModel.parameters(), lr=1e-4)"
   ]
  },
  {
   "cell_type": "code",
   "execution_count": 78,
   "id": "e8184b27",
   "metadata": {},
   "outputs": [
    {
     "ename": "AttributeError",
     "evalue": "'CNN_Model' object has no attribute 'drop3'",
     "output_type": "error",
     "traceback": [
      "\u001b[0;31m---------------------------------------------------------------------------\u001b[0m",
      "\u001b[0;31mAttributeError\u001b[0m                            Traceback (most recent call last)",
      "Cell \u001b[0;32mIn[78], line 7\u001b[0m\n\u001b[1;32m      5\u001b[0m \u001b[38;5;28;01mfor\u001b[39;00m batch_x, batch_y \u001b[38;5;129;01min\u001b[39;00m train_loader:\n\u001b[1;32m      6\u001b[0m     optim\u001b[38;5;241m.\u001b[39mzero_grad()\n\u001b[0;32m----> 7\u001b[0m     outputs \u001b[38;5;241m=\u001b[39m \u001b[43mconvModel\u001b[49m\u001b[43m(\u001b[49m\u001b[43mbatch_x\u001b[49m\u001b[43m)\u001b[49m\n\u001b[1;32m      8\u001b[0m     loss \u001b[38;5;241m=\u001b[39m criterion(outputs, batch_y)\n\u001b[1;32m      9\u001b[0m     loss\u001b[38;5;241m.\u001b[39mbackward()\n",
      "File \u001b[0;32m/Library/Frameworks/Python.framework/Versions/3.11/lib/python3.11/site-packages/torch/nn/modules/module.py:1511\u001b[0m, in \u001b[0;36mModule._wrapped_call_impl\u001b[0;34m(self, *args, **kwargs)\u001b[0m\n\u001b[1;32m   1509\u001b[0m     \u001b[38;5;28;01mreturn\u001b[39;00m \u001b[38;5;28mself\u001b[39m\u001b[38;5;241m.\u001b[39m_compiled_call_impl(\u001b[38;5;241m*\u001b[39margs, \u001b[38;5;241m*\u001b[39m\u001b[38;5;241m*\u001b[39mkwargs)  \u001b[38;5;66;03m# type: ignore[misc]\u001b[39;00m\n\u001b[1;32m   1510\u001b[0m \u001b[38;5;28;01melse\u001b[39;00m:\n\u001b[0;32m-> 1511\u001b[0m     \u001b[38;5;28;01mreturn\u001b[39;00m \u001b[38;5;28;43mself\u001b[39;49m\u001b[38;5;241;43m.\u001b[39;49m\u001b[43m_call_impl\u001b[49m\u001b[43m(\u001b[49m\u001b[38;5;241;43m*\u001b[39;49m\u001b[43margs\u001b[49m\u001b[43m,\u001b[49m\u001b[43m \u001b[49m\u001b[38;5;241;43m*\u001b[39;49m\u001b[38;5;241;43m*\u001b[39;49m\u001b[43mkwargs\u001b[49m\u001b[43m)\u001b[49m\n",
      "File \u001b[0;32m/Library/Frameworks/Python.framework/Versions/3.11/lib/python3.11/site-packages/torch/nn/modules/module.py:1520\u001b[0m, in \u001b[0;36mModule._call_impl\u001b[0;34m(self, *args, **kwargs)\u001b[0m\n\u001b[1;32m   1515\u001b[0m \u001b[38;5;66;03m# If we don't have any hooks, we want to skip the rest of the logic in\u001b[39;00m\n\u001b[1;32m   1516\u001b[0m \u001b[38;5;66;03m# this function, and just call forward.\u001b[39;00m\n\u001b[1;32m   1517\u001b[0m \u001b[38;5;28;01mif\u001b[39;00m \u001b[38;5;129;01mnot\u001b[39;00m (\u001b[38;5;28mself\u001b[39m\u001b[38;5;241m.\u001b[39m_backward_hooks \u001b[38;5;129;01mor\u001b[39;00m \u001b[38;5;28mself\u001b[39m\u001b[38;5;241m.\u001b[39m_backward_pre_hooks \u001b[38;5;129;01mor\u001b[39;00m \u001b[38;5;28mself\u001b[39m\u001b[38;5;241m.\u001b[39m_forward_hooks \u001b[38;5;129;01mor\u001b[39;00m \u001b[38;5;28mself\u001b[39m\u001b[38;5;241m.\u001b[39m_forward_pre_hooks\n\u001b[1;32m   1518\u001b[0m         \u001b[38;5;129;01mor\u001b[39;00m _global_backward_pre_hooks \u001b[38;5;129;01mor\u001b[39;00m _global_backward_hooks\n\u001b[1;32m   1519\u001b[0m         \u001b[38;5;129;01mor\u001b[39;00m _global_forward_hooks \u001b[38;5;129;01mor\u001b[39;00m _global_forward_pre_hooks):\n\u001b[0;32m-> 1520\u001b[0m     \u001b[38;5;28;01mreturn\u001b[39;00m \u001b[43mforward_call\u001b[49m\u001b[43m(\u001b[49m\u001b[38;5;241;43m*\u001b[39;49m\u001b[43margs\u001b[49m\u001b[43m,\u001b[49m\u001b[43m \u001b[49m\u001b[38;5;241;43m*\u001b[39;49m\u001b[38;5;241;43m*\u001b[39;49m\u001b[43mkwargs\u001b[49m\u001b[43m)\u001b[49m\n\u001b[1;32m   1522\u001b[0m \u001b[38;5;28;01mtry\u001b[39;00m:\n\u001b[1;32m   1523\u001b[0m     result \u001b[38;5;241m=\u001b[39m \u001b[38;5;28;01mNone\u001b[39;00m\n",
      "Cell \u001b[0;32mIn[76], line 46\u001b[0m, in \u001b[0;36mCNN_Model.forward\u001b[0;34m(self, x)\u001b[0m\n\u001b[1;32m     44\u001b[0m x \u001b[38;5;241m=\u001b[39m nn\u001b[38;5;241m.\u001b[39mfunctional\u001b[38;5;241m.\u001b[39mrelu(\u001b[38;5;28mself\u001b[39m\u001b[38;5;241m.\u001b[39mbn3(\u001b[38;5;28mself\u001b[39m\u001b[38;5;241m.\u001b[39mconv3(x)))\n\u001b[1;32m     45\u001b[0m x \u001b[38;5;241m=\u001b[39m \u001b[38;5;28mself\u001b[39m\u001b[38;5;241m.\u001b[39mpool3(x)\n\u001b[0;32m---> 46\u001b[0m x \u001b[38;5;241m=\u001b[39m \u001b[38;5;28;43mself\u001b[39;49m\u001b[38;5;241;43m.\u001b[39;49m\u001b[43mdrop3\u001b[49m(x)        \n\u001b[1;32m     48\u001b[0m \u001b[38;5;66;03m#Block 4\u001b[39;00m\n\u001b[1;32m     49\u001b[0m x \u001b[38;5;241m=\u001b[39m nn\u001b[38;5;241m.\u001b[39mfunctional\u001b[38;5;241m.\u001b[39mrelu(\u001b[38;5;28mself\u001b[39m\u001b[38;5;241m.\u001b[39mbn4(\u001b[38;5;28mself\u001b[39m\u001b[38;5;241m.\u001b[39mconv4(x)))\n",
      "File \u001b[0;32m/Library/Frameworks/Python.framework/Versions/3.11/lib/python3.11/site-packages/torch/nn/modules/module.py:1688\u001b[0m, in \u001b[0;36mModule.__getattr__\u001b[0;34m(self, name)\u001b[0m\n\u001b[1;32m   1686\u001b[0m     \u001b[38;5;28;01mif\u001b[39;00m name \u001b[38;5;129;01min\u001b[39;00m modules:\n\u001b[1;32m   1687\u001b[0m         \u001b[38;5;28;01mreturn\u001b[39;00m modules[name]\n\u001b[0;32m-> 1688\u001b[0m \u001b[38;5;28;01mraise\u001b[39;00m \u001b[38;5;167;01mAttributeError\u001b[39;00m(\u001b[38;5;124mf\u001b[39m\u001b[38;5;124m\"\u001b[39m\u001b[38;5;124m'\u001b[39m\u001b[38;5;132;01m{\u001b[39;00m\u001b[38;5;28mtype\u001b[39m(\u001b[38;5;28mself\u001b[39m)\u001b[38;5;241m.\u001b[39m\u001b[38;5;18m__name__\u001b[39m\u001b[38;5;132;01m}\u001b[39;00m\u001b[38;5;124m'\u001b[39m\u001b[38;5;124m object has no attribute \u001b[39m\u001b[38;5;124m'\u001b[39m\u001b[38;5;132;01m{\u001b[39;00mname\u001b[38;5;132;01m}\u001b[39;00m\u001b[38;5;124m'\u001b[39m\u001b[38;5;124m\"\u001b[39m)\n",
      "\u001b[0;31mAttributeError\u001b[0m: 'CNN_Model' object has no attribute 'drop3'"
     ]
    }
   ],
   "source": [
    "for epoch in range(EPOCHS):\n",
    "    convModel.train()\n",
    "    epoch_loss = 0.0\n",
    "    \n",
    "    for batch_x, batch_y in train_loader:\n",
    "        optim.zero_grad()\n",
    "        outputs = convModel(batch_x)\n",
    "        loss = criterion(outputs, batch_y)\n",
    "        loss.backward()\n",
    "        optim.step()\n",
    "        epoch_loss += loss.item()\n",
    "        \n",
    "    print(f\"Epoch [{epoch+1}/{EPOCHS}], Loss: {epoch_loss/len(train_loader):.4f}\")"
   ]
  },
  {
   "cell_type": "markdown",
   "id": "2758d174",
   "metadata": {},
   "source": []
  },
  {
   "cell_type": "code",
   "execution_count": 69,
   "id": "c5df685a",
   "metadata": {},
   "outputs": [
    {
     "name": "stdout",
     "output_type": "stream",
     "text": [
      "✅ Validation Metrics:\n",
      "Accuracy:  72.57%\n",
      "Precision: 74.01%\n",
      "Recall:    72.45%\n",
      "F1-score:  71.60%\n"
     ]
    }
   ],
   "source": [
    "from sklearn.metrics import accuracy_score, precision_score, recall_score, f1_score, classification_report, confusion_matrix\n",
    "import torch\n",
    "\n",
    "\n",
    "convModel.eval()\n",
    "\n",
    "all_preds = []\n",
    "all_labels = []\n",
    "\n",
    "with torch.no_grad():\n",
    "    for batch_x, batch_y in test_loader:\n",
    "        outputs = convModel(batch_x)\n",
    "        _, predicted = torch.max(outputs, 1)\n",
    "        all_preds.extend(predicted.cpu().numpy())\n",
    "        all_labels.extend(batch_y.cpu().numpy())\n",
    "\n",
    "\n",
    "acc = accuracy_score(all_labels, all_preds)\n",
    "prec = precision_score(all_labels, all_preds, average='macro')\n",
    "rec = recall_score(all_labels, all_preds, average='macro')\n",
    "f1 = f1_score(all_labels, all_preds, average='macro')\n",
    "\n",
    "\n",
    "print(f\"✅ Validation Metrics:\")\n",
    "print(f\"Accuracy:  {acc*100:.2f}%\")\n",
    "print(f\"Precision: {prec*100:.2f}%\")\n",
    "print(f\"Recall:    {rec*100:.2f}%\")\n",
    "print(f\"F1-score:  {f1*100:.2f}%\")\n"
   ]
  },
  {
   "cell_type": "code",
   "execution_count": 70,
   "id": "18a6c9c7",
   "metadata": {},
   "outputs": [
    {
     "name": "stdout",
     "output_type": "stream",
     "text": [
      "Accuracy of the training: 0.7666\n",
      "Loss of the training: 0.6764\n",
      "Accuracy of the testing: 0.7257\n",
      "Loss of the testing: 0.7602\n"
     ]
    }
   ],
   "source": [
    "def evaluate_model(model, loader, criterion, name=\"Validation\"):\n",
    "    model.eval()\n",
    "    total_loss = 0\n",
    "    correct = 0\n",
    "    total = 0\n",
    "    with torch.no_grad():\n",
    "        for batch_x, batch_y in loader:\n",
    "            outputs = model(batch_x)\n",
    "            loss = criterion(outputs, batch_y)\n",
    "            total_loss += loss.item()\n",
    "            _, preds = torch.max(outputs, 1)\n",
    "            total += batch_y.size(0)\n",
    "            correct += (preds == batch_y).sum().item()\n",
    "\n",
    "    avg_loss = total_loss / len(loader)\n",
    "    acc = correct / total\n",
    "    print(f\"Accuracy of the {name}: {acc:.4f}\")\n",
    "    print(f\"Loss of the {name}: {avg_loss:.4f}\")\n",
    "    return acc, avg_loss\n",
    "\n",
    "# Evaluate Model\n",
    "train_acc, train_loss = evaluate_model(convModel, train_loader, criterion, \"training\")\n",
    "test_acc, test_loss = evaluate_model(convModel, test_loader, criterion, \"testing\")\n"
   ]
  }
 ],
 "metadata": {
  "kernelspec": {
   "display_name": "Python 3",
   "language": "python",
   "name": "python3"
  },
  "language_info": {
   "codemirror_mode": {
    "name": "ipython",
    "version": 3
   },
   "file_extension": ".py",
   "mimetype": "text/x-python",
   "name": "python",
   "nbconvert_exporter": "python",
   "pygments_lexer": "ipython3",
   "version": "3.11.9"
  }
 },
 "nbformat": 4,
 "nbformat_minor": 5
}
