{
 "cells": [
  {
   "cell_type": "code",
   "execution_count": 2,
   "id": "420d5137",
   "metadata": {},
   "outputs": [],
   "source": [
    "import pandas as pd\n",
    "import tensorflow as tf\n",
    "from sklearn.model_selection import train_test_split\n",
    "from sklearn.metrics import accuracy_score\n",
    "import matplotlib.pyplot as plt\n",
    "import numpy as np\n"
   ]
  },
  {
   "cell_type": "code",
   "execution_count": 3,
   "id": "3bf8b546",
   "metadata": {},
   "outputs": [
    {
     "name": "stdout",
     "output_type": "stream",
     "text": [
      "0       15\n",
      "1        7\n",
      "2        9\n",
      "3       10\n",
      "4        7\n",
      "        ..\n",
      "4172    11\n",
      "4173    10\n",
      "4174     9\n",
      "4175    10\n",
      "4176    12\n",
      "Name: Rings, Length: 4177, dtype: int64\n",
      "[['M' 0.455 0.365 ... 0.514 0.2245 0.101]\n",
      " ['M' 0.35 0.265 ... 0.2255 0.0995 0.0485]\n",
      " ['F' 0.53 0.42 ... 0.677 0.2565 0.1415]\n",
      " ...\n",
      " ['M' 0.6 0.475 ... 1.176 0.5255 0.2875]\n",
      " ['F' 0.625 0.485 ... 1.0945 0.531 0.261]\n",
      " ['M' 0.71 0.555 ... 1.9485 0.9455 0.3765]]\n"
     ]
    }
   ],
   "source": [
    "dataset = pd.read_csv(\"abalone.csv\")\n",
    "Y = dataset[\"Rings\"]\n",
    "X = dataset.iloc[:, 1:8].values\n",
    "print(Y)\n",
    "print(X)"
   ]
  },
  {
   "cell_type": "code",
   "execution_count": null,
   "id": "e2190d4e",
   "metadata": {},
   "outputs": [],
   "source": []
  }
 ],
 "metadata": {
  "kernelspec": {
   "display_name": "Python 3",
   "language": "python",
   "name": "python3"
  },
  "language_info": {
   "codemirror_mode": {
    "name": "ipython",
    "version": 3
   },
   "file_extension": ".py",
   "mimetype": "text/x-python",
   "name": "python",
   "nbconvert_exporter": "python",
   "pygments_lexer": "ipython3",
   "version": "3.11.5"
  }
 },
 "nbformat": 4,
 "nbformat_minor": 5
}
