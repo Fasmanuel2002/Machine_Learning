{
 "cells": [
  {
   "cell_type": "code",
   "execution_count": null,
   "id": "420d5137",
   "metadata": {},
   "outputs": [],
   "source": [
    "import pandas as pd\n",
    "import keras\n",
    "from sklearn.model_selection import train_test_split\n",
    "from sklearn.metrics import accuracy_score\n",
    "import matplotlib.pyplot as plt\n",
    "import numpy as np\n",
    "from sklearn.preprocessing import StandardScaler\n"
   ]
  },
  {
   "cell_type": "code",
   "execution_count": null,
   "id": "3bf8b546",
   "metadata": {},
   "outputs": [],
   "source": [
    "dataFrame = pd.read_csv(\"abalone.csv\")\n",
    "dataFrame[\"Sex\"] = dataFrame[\"Sex\"].replace({\"M\":0, \"F\":1})\n",
    "Y = dataFrame[\"Rings\"]\n",
    "X = dataFrame.iloc[:, 1:9].values"
   ]
  },
  {
   "cell_type": "code",
   "execution_count": null,
   "id": "29d54dc3",
   "metadata": {},
   "outputs": [],
   "source": []
  },
  {
   "cell_type": "code",
   "execution_count": 4,
   "id": "e2190d4e",
   "metadata": {},
   "outputs": [],
   "source": [
    "\n",
    "def model(input_shape, output_shape):\n",
    "    SequentialModel = keras.Sequential()\n",
    "    \n",
    "    SequentialModel.add(keras.layers.Input(shape=(input_shape,)))\n",
    "    \n",
    "    SequentialModel.add(keras.layers.Dense(256, activation='relu'))\n",
    "    \n",
    "    SequentialModel.add(keras.layers.Dense(128, activation='relu'))\n",
    "    \n",
    "    SequentialModel.add(keras.layers.Dense(output_shape, activation='relu'))\n",
    "    \n",
    "    SequentialModel.compile(\n",
    "        optimizer=\"adam\",\n",
    "        loss=\"mean_squared_error\"\n",
    "    )\n",
    "    \n",
    "    return SequentialModel"
   ]
  },
  {
   "cell_type": "markdown",
   "id": "02a5336f",
   "metadata": {},
   "source": []
  },
  {
   "cell_type": "code",
   "execution_count": null,
   "id": "603df4f7",
   "metadata": {},
   "outputs": [],
   "source": [
    "#Normalize data\n",
    "scaler = StandardScaler()\n",
    "X_normalize = scaler.fit_transform(X)\n",
    "\n",
    "x_train, x_test , y_train, y_test = train_test_split(\n",
    "    \n",
    ")"
   ]
  }
 ],
 "metadata": {
  "kernelspec": {
   "display_name": "Python 3",
   "language": "python",
   "name": "python3"
  },
  "language_info": {
   "codemirror_mode": {
    "name": "ipython",
    "version": 3
   },
   "file_extension": ".py",
   "mimetype": "text/x-python",
   "name": "python",
   "nbconvert_exporter": "python",
   "pygments_lexer": "ipython3",
   "version": "3.11.5"
  }
 },
 "nbformat": 4,
 "nbformat_minor": 5
}
