{
 "cells": [
  {
   "cell_type": "code",
   "execution_count": null,
   "id": "8bdf4c24",
   "metadata": {},
   "outputs": [],
   "source": [
    "import numpy as np\n",
    "import pandas as pd\n",
    "\n",
    "# Dataset pequeño (X1, X2, y)\n",
    "data = {\n",
    "    \"X1\": [1, 2, 3, 4, 5, 6],\n",
    "    \"X2\": [2, 1, 2, 3, 3, 2],\n",
    "    \"y\":  [-1, -1, 1, 1, 1, -1]  # etiquetas binarias (-1 y 1)\n",
    "}"
   ]
  },
  {
   "cell_type": "code",
   "execution_count": null,
   "id": "84d1d02e",
   "metadata": {},
   "outputs": [],
   "source": []
  }
 ],
 "metadata": {
  "kernelspec": {
   "display_name": "Python 3",
   "language": "python",
   "name": "python3"
  },
  "language_info": {
   "name": "python",
   "version": "3.11.9"
  }
 },
 "nbformat": 4,
 "nbformat_minor": 5
}
