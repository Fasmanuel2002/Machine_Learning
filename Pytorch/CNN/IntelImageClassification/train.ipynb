{
 "cells": [
  {
   "cell_type": "code",
   "execution_count": 26,
   "id": "22f6e226",
   "metadata": {},
   "outputs": [],
   "source": [
    "import pandas as pd\n",
    "import numpy as np\n",
    "import cv2\n",
    "import os\n",
    "from sklearn.model_selection import train_test_split\n",
    "from sklearn.metrics import accuracy_score\n",
    "import torch\n",
    "from torch import nn\n",
    "import torch.optim as optimzer\n",
    "from sklearn.preprocessing import LabelEncoder\n",
    "from torch.utils.data import TensorDataset, DataLoader\n",
    "\n",
    "CATEGORIES = [\"buildings\", \"forest\",\n",
    "              \"glacier\", \"mountain\", \n",
    "              \"sea\", \"street\"]\n",
    "EPOCHS = 50\n",
    "TEST_SIZE = 0.30"
   ]
  },
  {
   "cell_type": "code",
   "execution_count": 27,
   "id": "34ed297e",
   "metadata": {},
   "outputs": [],
   "source": [
    "def load_Intel_Image(dataDirectory : str):\n",
    "    images = []\n",
    "    labels = []\n",
    "    for SingleCategory in CATEGORIES:\n",
    "        category = os.path.join(dataDirectory, str(SingleCategory))\n",
    "        \n",
    "        for image in os.listdir(category):\n",
    "            img_path = os.path.join(category, image)\n",
    "            final_image = cv2.imread(img_path)\n",
    "            \n",
    "            if final_image is None:\n",
    "                raise Exception(\"Problem with the images\")\n",
    "            img = cv2.resize(final_image, (64,64)) #Making the Picture 64 x 64\n",
    "            images.append(img)\n",
    "            labels.append(SingleCategory)\n",
    "    \n",
    "    return (np.array(images), np.array(labels))\n",
    "\n",
    "            \n",
    "        \n",
    "            "
   ]
  },
  {
   "cell_type": "code",
   "execution_count": 28,
   "id": "0e443734",
   "metadata": {},
   "outputs": [
    {
     "name": "stdout",
     "output_type": "stream",
     "text": [
      "This is the shape of X_train: (9823, 64, 64, 3)\n",
      "This is the shape of Y_train: (9823,)\n",
      "This is the shape of X_test: (4211, 64, 64, 3)\n",
      "This is the shape of Y_Test: (4211,)\n"
     ]
    }
   ],
   "source": [
    "images, labels = load_Intel_Image(\"seg_train/\")\n",
    "\n",
    "X_train, X_test, Y_train, Y_test = train_test_split(\n",
    "    np.array(images), np.array(labels), test_size=TEST_SIZE, random_state=42\n",
    ")\n",
    "\n",
    "print(f\"This is the shape of X_train: {X_train.shape}\")\n",
    "print(f\"This is the shape of Y_train: {Y_train.shape}\")\n",
    "print(f\"This is the shape of X_test: {X_test.shape}\")\n",
    "print(f\"This is the shape of Y_Test: {Y_test.shape}\")"
   ]
  },
  {
   "cell_type": "code",
   "execution_count": 29,
   "id": "46ab2666",
   "metadata": {},
   "outputs": [],
   "source": [
    "#1) Normalize Input Pixels\n",
    "X_train = X_train.astype(\"float32\") / 255.0\n",
    "X_test = X_test.astype(\"float32\") / 255.0\n",
    "\n",
    "\n",
    "#2) We need to Transpose the Matrix because TF (M, H, W, NC) -> Pytorch (M, NC, H, W)\n",
    "X_train = np.transpose(X_train, (0,3,1,2))\n",
    "X_test = np.transpose(X_test, (0,3,1,2))\n",
    "\n",
    "#3) Codificate the Y to Labels Encoder\n",
    "Label_Encoder = LabelEncoder()\n",
    "Y_train_encoded = Label_Encoder.fit_transform(Y_train)\n",
    "Y_test_encoded = Label_Encoder.fit_transform(Y_test)\n",
    "\n",
    "#4) Convert tensor of Pytorch(The numpy array of TensorFlow)\n",
    "x_train = torch.tensor(X_train, dtype=torch.float32)\n",
    "y_train = torch.tensor(Y_train_encoded, dtype=torch.long)\n",
    "x_test = torch.tensor(X_test, dtype=torch.float32)\n",
    "y_test = torch.tensor(Y_test_encoded, dtype=torch.long)"
   ]
  },
  {
   "cell_type": "code",
   "execution_count": 30,
   "id": "068d8806",
   "metadata": {},
   "outputs": [],
   "source": [
    "train_Dataset = TensorDataset(x_train, y_train)\n",
    "test_DataSet = TensorDataset(x_test, y_test)\n",
    "\n",
    "train_loader = DataLoader(train_Dataset, batch_size=64, shuffle=True)\n",
    "test_loader = DataLoader(test_DataSet, batch_size=64, shuffle=True)\n"
   ]
  },
  {
   "cell_type": "code",
   "execution_count": 31,
   "id": "28fc9f83",
   "metadata": {},
   "outputs": [],
   "source": [
    "class CNN_Model(nn.Module):\n",
    "    def __init__(self, num_classes=6):\n",
    "        super(CNN_Model, self).__init__()\n",
    "        \n",
    "        #First Block\n",
    "        self.zero_pad = nn.ZeroPad2d(3) #Padding (3,3s)\n",
    "        self.conv1 = nn.Conv2d(in_channels=3, out_channels=64, kernel_size=7, stride=2)\n",
    "        self.bn1 = nn.BatchNorm2d(64)\n",
    "        self.pool1 = nn.MaxPool2d(kernel_size=3, stride=2)\n",
    "        \n",
    "        #Second Block\n",
    "        self.covn2 = nn.Conv2d(in_channels=64, out_channels=32, kernel_size=4, stride=2)\n",
    "        self.bn2 = nn.BatchNorm2d(32)\n",
    "        self.pool2 = nn.MaxPool2d(kernel_size=3, stride=2, padding=1)\n",
    "        \n",
    "        #Third Block\n",
    "        self.conv3 = nn.Conv2d(in_channels=32, out_channels=32, kernel_size=2)\n",
    "        self.bn3 = nn.BatchNorm2d(32)\n",
    "        self.pool3 = nn.MaxPool2d(kernel_size=3, stride=1,padding=1)\n",
    "        \n",
    "        self.fc = nn.Linear(32 * 2 * 2, num_classes)\n",
    "    \n",
    "    \n",
    "    def forward(self, x):\n",
    "        #Block 1\n",
    "        x = self.zero_pad(x)\n",
    "        x = nn.functional.relu(self.bn1(self.conv1(x)))\n",
    "        x = self.pool1(x)\n",
    "        \n",
    "        #Block 2\n",
    "        x = nn.functional.relu(self.bn2(self.covn2(x)))\n",
    "        x = self.pool2(x)\n",
    "        \n",
    "        #Block 3 \n",
    "        x = nn.functional.relu(self.bn3(self.conv3(x)))\n",
    "        x = self.pool3(x)\n",
    "        \n",
    "        #Flatten and Final Block\n",
    "        x = torch.flatten(x, 1)\n",
    "        x = self.fc(x)\n",
    "        #Dim = 1 == np.sum() == 1\n",
    "        x = nn.functional.softmax(x, dim=1)\n",
    "\n",
    "        return x\n",
    "        \n",
    "        \n",
    "        "
   ]
  },
  {
   "cell_type": "code",
   "execution_count": 34,
   "id": "efe05912",
   "metadata": {},
   "outputs": [],
   "source": [
    "convModel = CNN_Model(num_classes=6)\n",
    "criterion = nn.CrossEntropyLoss()\n",
    "optim = optimzer.AdamW(convModel.parameters(), lr=5e-5)"
   ]
  },
  {
   "cell_type": "code",
   "execution_count": 35,
   "id": "e8184b27",
   "metadata": {},
   "outputs": [
    {
     "name": "stdout",
     "output_type": "stream",
     "text": [
      "Epoch [1/50], Loss: 1.6972\n",
      "Epoch [2/50], Loss: 1.6039\n",
      "Epoch [3/50], Loss: 1.5491\n",
      "Epoch [4/50], Loss: 1.5010\n",
      "Epoch [5/50], Loss: 1.4595\n",
      "Epoch [6/50], Loss: 1.4279\n",
      "Epoch [7/50], Loss: 1.3995\n",
      "Epoch [8/50], Loss: 1.3771\n",
      "Epoch [9/50], Loss: 1.3561\n",
      "Epoch [10/50], Loss: 1.3396\n",
      "Epoch [11/50], Loss: 1.3245\n",
      "Epoch [12/50], Loss: 1.3107\n",
      "Epoch [13/50], Loss: 1.3009\n",
      "Epoch [14/50], Loss: 1.2907\n",
      "Epoch [15/50], Loss: 1.2818\n",
      "Epoch [16/50], Loss: 1.2728\n",
      "Epoch [17/50], Loss: 1.2615\n",
      "Epoch [18/50], Loss: 1.2536\n",
      "Epoch [19/50], Loss: 1.2459\n",
      "Epoch [20/50], Loss: 1.2401\n",
      "Epoch [21/50], Loss: 1.2332\n",
      "Epoch [22/50], Loss: 1.2267\n",
      "Epoch [23/50], Loss: 1.2224\n",
      "Epoch [24/50], Loss: 1.2173\n",
      "Epoch [25/50], Loss: 1.2103\n",
      "Epoch [26/50], Loss: 1.2052\n",
      "Epoch [27/50], Loss: 1.2000\n",
      "Epoch [28/50], Loss: 1.1951\n",
      "Epoch [29/50], Loss: 1.1904\n",
      "Epoch [30/50], Loss: 1.1865\n",
      "Epoch [31/50], Loss: 1.1832\n",
      "Epoch [32/50], Loss: 1.1778\n",
      "Epoch [33/50], Loss: 1.1744\n",
      "Epoch [34/50], Loss: 1.1711\n",
      "Epoch [35/50], Loss: 1.1683\n",
      "Epoch [36/50], Loss: 1.1645\n",
      "Epoch [37/50], Loss: 1.1604\n",
      "Epoch [38/50], Loss: 1.1569\n",
      "Epoch [39/50], Loss: 1.1548\n",
      "Epoch [40/50], Loss: 1.1533\n",
      "Epoch [41/50], Loss: 1.1508\n",
      "Epoch [42/50], Loss: 1.1472\n",
      "Epoch [43/50], Loss: 1.1452\n",
      "Epoch [44/50], Loss: 1.1434\n",
      "Epoch [45/50], Loss: 1.1406\n",
      "Epoch [46/50], Loss: 1.1394\n",
      "Epoch [47/50], Loss: 1.1336\n",
      "Epoch [48/50], Loss: 1.1343\n",
      "Epoch [49/50], Loss: 1.1320\n",
      "Epoch [50/50], Loss: 1.1297\n"
     ]
    }
   ],
   "source": [
    "for epoch in range(EPOCHS):\n",
    "    convModel.train()\n",
    "    epoch_loss = 0.0\n",
    "    \n",
    "    for batch_x, batch_y in train_loader:\n",
    "        optim.zero_grad()\n",
    "        outputs = convModel(batch_x)\n",
    "        loss = criterion(outputs, batch_y)\n",
    "        loss.backward()\n",
    "        optim.step()\n",
    "        epoch_loss += loss.item()\n",
    "        \n",
    "    print(f\"Epoch [{epoch+1}/{EPOCHS}], Loss: {epoch_loss/len(train_loader):.4f}\")"
   ]
  },
  {
   "cell_type": "markdown",
   "id": "2758d174",
   "metadata": {},
   "source": []
  },
  {
   "cell_type": "code",
   "execution_count": null,
   "id": "c5df685a",
   "metadata": {},
   "outputs": [
    {
     "name": "stdout",
     "output_type": "stream",
     "text": [
      "✅ Validation Metrics:\n",
      "Accuracy:  72.60%\n",
      "Precision: 74.97%\n",
      "Recall:    72.56%\n",
      "F1-score:  72.27%\n"
     ]
    }
   ],
   "source": [
    "from sklearn.metrics import accuracy_score, precision_score, recall_score, f1_score, classification_report, confusion_matrix\n",
    "import torch\n",
    "\n",
    "\n",
    "convModel.eval()\n",
    "\n",
    "all_preds = []\n",
    "all_labels = []\n",
    "\n",
    "with torch.no_grad():\n",
    "    for batch_x, batch_y in test_loader:\n",
    "        outputs = convModel(batch_x)\n",
    "        _, predicted = torch.max(outputs, 1)\n",
    "        all_preds.extend(predicted.cpu().numpy())\n",
    "        all_labels.extend(batch_y.cpu().numpy())\n",
    "\n",
    "\n",
    "acc = accuracy_score(all_labels, all_preds)\n",
    "prec = precision_score(all_labels, all_preds, average='macro')\n",
    "rec = recall_score(all_labels, all_preds, average='macro')\n",
    "f1 = f1_score(all_labels, all_preds, average='macro')\n",
    "\n",
    "\n",
    "print(f\"✅ Validation Metrics:\")\n",
    "print(f\"Accuracy:  {acc*100:.2f}%\")\n",
    "print(f\"Precision: {prec*100:.2f}%\")\n",
    "print(f\"Recall:    {rec*100:.2f}%\")\n",
    "print(f\"F1-score:  {f1*100:.2f}%\")\n"
   ]
  },
  {
   "cell_type": "code",
   "execution_count": null,
   "id": "18a6c9c7",
   "metadata": {},
   "outputs": [
    {
     "name": "stdout",
     "output_type": "stream",
     "text": [
      "Accuracy of the training: 0.9092\n",
      "Loss of the training: 1.1526\n",
      "Accuracy of the testing: 0.7260\n",
      "Loss of the testing: 1.3240\n"
     ]
    }
   ],
   "source": [
    "def evaluate_model(model, loader, criterion, name=\"Validation\"):\n",
    "    model.eval()\n",
    "    total_loss = 0\n",
    "    correct = 0\n",
    "    total = 0\n",
    "    with torch.no_grad():\n",
    "        for batch_x, batch_y in loader:\n",
    "            outputs = model(batch_x)\n",
    "            loss = criterion(outputs, batch_y)\n",
    "            total_loss += loss.item()\n",
    "            _, preds = torch.max(outputs, 1)\n",
    "            total += batch_y.size(0)\n",
    "            correct += (preds == batch_y).sum().item()\n",
    "\n",
    "    avg_loss = total_loss / len(loader)\n",
    "    acc = correct / total\n",
    "    print(f\"Accuracy of the {name}: {acc:.4f}\")\n",
    "    print(f\"Loss of the {name}: {avg_loss:.4f}\")\n",
    "    return acc, avg_loss\n",
    "\n",
    "# Evaluate Model\n",
    "train_acc, train_loss = evaluate_model(convModel, train_loader, criterion, \"training\")\n",
    "test_acc, test_loss = evaluate_model(convModel, test_loader, criterion, \"testing\")\n"
   ]
  },
  {
   "cell_type": "code",
   "execution_count": null,
   "id": "91055b38",
   "metadata": {},
   "outputs": [],
   "source": []
  }
 ],
 "metadata": {
  "kernelspec": {
   "display_name": "Python 3",
   "language": "python",
   "name": "python3"
  },
  "language_info": {
   "codemirror_mode": {
    "name": "ipython",
    "version": 3
   },
   "file_extension": ".py",
   "mimetype": "text/x-python",
   "name": "python",
   "nbconvert_exporter": "python",
   "pygments_lexer": "ipython3",
   "version": "3.11.9"
  }
 },
 "nbformat": 4,
 "nbformat_minor": 5
}
