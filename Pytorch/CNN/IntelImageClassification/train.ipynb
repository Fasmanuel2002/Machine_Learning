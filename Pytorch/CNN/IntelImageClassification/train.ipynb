{
 "cells": [
  {
   "cell_type": "code",
   "execution_count": 2,
   "id": "22f6e226",
   "metadata": {},
   "outputs": [],
   "source": [
    "import pandas as pd\n",
    "import numpy as np\n",
    "import cv2\n",
    "import os\n",
    "from sklearn.model_selection import train_test_split\n",
    "from sklearn.metrics import accuracy_score\n",
    "import torch\n",
    "from torch import nn\n",
    "import torch.optim as optimzer\n",
    "from torch.utils.data import TensorDataset, DataLoader\n",
    "\n",
    "CATEGORIES = [\"buildings\", \"forest\",\n",
    "              \"glacier\", \"mountain\", \n",
    "              \"sea\", \"street\"]\n",
    "EPOCHS = 50\n",
    "TEST_SIZE = 0.30"
   ]
  },
  {
   "cell_type": "code",
   "execution_count": 3,
   "id": "34ed297e",
   "metadata": {},
   "outputs": [],
   "source": [
    "def load_Intel_Image(dataDirectory : str):\n",
    "    images = []\n",
    "    labels = []\n",
    "    for SingleCategory in CATEGORIES:\n",
    "        category = os.path.join(dataDirectory, str(SingleCategory))\n",
    "        \n",
    "        for image in os.listdir(category):\n",
    "            img_path = os.path.join(category, image)\n",
    "            final_image = cv2.imread(img_path)\n",
    "            \n",
    "            if final_image is None:\n",
    "                raise Exception(\"Problem with the images\")\n",
    "            img = cv2.resize(final_image, (64,64)) #Making the Picture 64 x 64\n",
    "            images.append(img)\n",
    "            labels.append(SingleCategory)\n",
    "    \n",
    "    return (np.array(images), np.array(labels))\n",
    "\n",
    "            \n",
    "        \n",
    "            "
   ]
  },
  {
   "cell_type": "code",
   "execution_count": null,
   "id": "0e443734",
   "metadata": {},
   "outputs": [
    {
     "name": "stdout",
     "output_type": "stream",
     "text": [
      "This is the shape of X_train: (9823, 64, 64, 3)\n",
      "This is the shape of Y_train: (9823,)\n",
      "This is the shape of X_test: (4211, 64, 64, 3)\n",
      "This is the shape of Y_Test: (4211,)\n",
      "(9823,)\n",
      "(4211, 64, 64, 3)\n",
      "(4211,)\n"
     ]
    }
   ],
   "source": [
    "images, labels = load_Intel_Image(\"seg_train/\")\n",
    "\n",
    "X_train, X_test, Y_train, Y_test = train_test_split(\n",
    "    np.array(images), np.array(labels), test_size=TEST_SIZE, random_state=42\n",
    ")\n",
    "\n",
    "print(f\"This is the shape of X_train: {X_train.shape}\")\n",
    "print(f\"This is the shape of Y_train: {Y_train.shape}\")\n",
    "print(f\"This is the shape of X_test: {X_test.shape}\")\n",
    "print(f\"This is the shape of Y_Test: {Y_test.shape}\")"
   ]
  },
  {
   "cell_type": "code",
   "execution_count": null,
   "id": "46ab2666",
   "metadata": {},
   "outputs": [],
   "source": []
  }
 ],
 "metadata": {
  "kernelspec": {
   "display_name": "Python 3",
   "language": "python",
   "name": "python3"
  },
  "language_info": {
   "codemirror_mode": {
    "name": "ipython",
    "version": 3
   },
   "file_extension": ".py",
   "mimetype": "text/x-python",
   "name": "python",
   "nbconvert_exporter": "python",
   "pygments_lexer": "ipython3",
   "version": "3.11.9"
  }
 },
 "nbformat": 4,
 "nbformat_minor": 5
}
