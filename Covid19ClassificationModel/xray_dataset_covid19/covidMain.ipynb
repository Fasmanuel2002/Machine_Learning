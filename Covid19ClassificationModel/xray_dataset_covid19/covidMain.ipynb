{
 "cells": [
  {
   "cell_type": "code",
   "execution_count": 37,
   "id": "d96ccb76",
   "metadata": {},
   "outputs": [],
   "source": [
    "import pandas as pd\n",
    "import numpy as np\n",
    "from sklearn.model_selection import train_test_split\n",
    "from sklearn.preprocessing import StandardScaler\n",
    "import tensorflow as TF\n",
    "import keras\n",
    "import cv2\n",
    "from typing import Tuple\n",
    "import os\n",
    "import matplotlib.pyplot as plt\n",
    "from tensorflow.keras.utils import to_categorical\n",
    "\n",
    "CATEGORIES = [\"NORMAL\", \"PNEUMONIA\"]\n",
    "EPOCHS = 50\n",
    "TEST_SET = 0.3"
   ]
  },
  {
   "cell_type": "code",
   "execution_count": 43,
   "id": "ad30c8c9",
   "metadata": {},
   "outputs": [],
   "source": [
    "def LoadDataFromDirectory(dataDir : str):\n",
    "    images = []\n",
    "    labels = []\n",
    "    for Category in CATEGORIES:\n",
    "        singleCategory = os.path.join(dataDir, str(Category))\n",
    "        \n",
    "        for image in os.listdir(singleCategory):\n",
    "            imgPaths = os.path.join(singleCategory, image)\n",
    "            \n",
    "            finalImage = cv2.imread(imgPaths)\n",
    "            \n",
    "            if finalImage is None:\n",
    "                raise Exception(\"The directories are Null or Error\")\n",
    "            img = cv2.resize(finalImage, (64,64))\n",
    "            images.append(img)\n",
    "            \n",
    "            labels.append(CATEGORIES.index(Category))\n",
    "        \n",
    "    return (np.array(images), np.array(labels))"
   ]
  },
  {
   "cell_type": "code",
   "execution_count": 44,
   "id": "c85393d9",
   "metadata": {},
   "outputs": [
    {
     "name": "stdout",
     "output_type": "stream",
     "text": [
      "X train shape: (103, 64, 64, 3)\n",
      "Y train shape: (103,)\n",
      "X test shape: (45, 64, 64, 3)\n",
      "Y test shape: (45,)\n"
     ]
    }
   ],
   "source": [
    "images, labels = LoadDataFromDirectory(\"train\")\n",
    "\n",
    "X_train, X_test, Y_train, Y_test = train_test_split(\n",
    "    np.array(images), np.array(labels), test_size=TEST_SET, train_size=1-TEST_SET\n",
    ")\n",
    "\n",
    "print(f\"X train shape: {X_train.shape}\")\n",
    "print(f\"Y train shape: {Y_train.shape}\")\n",
    "print(f\"X test shape: {X_test.shape}\")\n",
    "print(f\"Y test shape: {Y_test.shape}\")\n"
   ]
  },
  {
   "cell_type": "code",
   "execution_count": null,
   "id": "eaffe6a8",
   "metadata": {},
   "outputs": [],
   "source": [
    "def model(input_shape): \n",
    "    input_img = TF.keras.Input(shape=input_shape)\n",
    "    \n",
    "    # CONV: f=4, stride=1 (default), padding=same\n",
    "    Z1 = TF.keras.layers.Conv2D(filters=10, kernel_size=(4,4), strides=(1,1), padding=\"same\")(input_img)\n",
    "    \n",
    "    A1 = TF.keras.layers.ReLU()(Z1)\n",
    "    \n",
    "    # POOL: f=10, stride=10, padding=valid\n",
    "    P1 = TF.keras.layers.MaxPool2D(pool_size=(10,10), strides=10, padding=\"valid\")(A1)\n",
    "    \n",
    "    # CONV: f=2, stride=1 (default), padding=same\n",
    "    Z2 = TF.keras.layers.Conv2D(filters=16, kernel_size=(2,2), strides=(1,1), padding=\"valid\")(P1)\n",
    "    \n",
    "    A2 = TF.keras.layers.ReLU()(Z2)\n",
    "    \n",
    "    # POOL: f=5, stride=5, padding=valid\n",
    "    P2 = TF.keras.layers.MaxPool2D(pool_size=(5,5), strides=(5,5), padding=\"same\")(A2)\n",
    "    \n",
    "    F = TF.keras.layers.Flatten()(P2)\n",
    "\n",
    "    output = TF.keras.layers.Dense(units = 1, activation=\"sigmoid\")(F)\n",
    "    \n",
    "    model = TF.keras.Model(input_img, output)\n",
    "    return model\n",
    "    \n",
    "    "
   ]
  },
  {
   "cell_type": "code",
   "execution_count": 42,
   "id": "6a857063",
   "metadata": {},
   "outputs": [
    {
     "ename": "ValueError",
     "evalue": "invalid literal for int() with base 10: 'train/NORMAL'",
     "output_type": "error",
     "traceback": [
      "\u001b[0;31m---------------------------------------------------------------------------\u001b[0m",
      "\u001b[0;31mValueError\u001b[0m                                Traceback (most recent call last)",
      "Cell \u001b[0;32mIn[42], line 8\u001b[0m\n\u001b[1;32m      1\u001b[0m ConvModel \u001b[38;5;241m=\u001b[39m model((\u001b[38;5;241m64\u001b[39m,\u001b[38;5;241m64\u001b[39m,\u001b[38;5;241m3\u001b[39m))\n\u001b[1;32m      3\u001b[0m ConvModel\u001b[38;5;241m.\u001b[39mcompile(\n\u001b[1;32m      4\u001b[0m     optimizer\u001b[38;5;241m=\u001b[39m\u001b[38;5;124m\"\u001b[39m\u001b[38;5;124madam\u001b[39m\u001b[38;5;124m\"\u001b[39m,\n\u001b[1;32m      5\u001b[0m     loss\u001b[38;5;241m=\u001b[39m\u001b[38;5;124m\"\u001b[39m\u001b[38;5;124mbinary_crossentropy\u001b[39m\u001b[38;5;124m\"\u001b[39m,\n\u001b[1;32m      6\u001b[0m     metrics\u001b[38;5;241m=\u001b[39m[\u001b[38;5;124m\"\u001b[39m\u001b[38;5;124maccuracy\u001b[39m\u001b[38;5;124m\"\u001b[39m]\n\u001b[1;32m      7\u001b[0m )\n\u001b[0;32m----> 8\u001b[0m Y_train_oh \u001b[38;5;241m=\u001b[39m \u001b[43mto_categorical\u001b[49m\u001b[43m(\u001b[49m\u001b[43mY_train\u001b[49m\u001b[43m,\u001b[49m\u001b[43m \u001b[49m\u001b[43mnum_classes\u001b[49m\u001b[38;5;241;43m=\u001b[39;49m\u001b[38;5;241;43m2\u001b[39;49m\u001b[43m)\u001b[49m\n\u001b[1;32m      9\u001b[0m Y_test_oh \u001b[38;5;241m=\u001b[39m to_categorical(Y_test, num_classes\u001b[38;5;241m=\u001b[39m\u001b[38;5;241m2\u001b[39m)\n\u001b[1;32m     11\u001b[0m history \u001b[38;5;241m=\u001b[39m ConvModel\u001b[38;5;241m.\u001b[39mfit(X_train\u001b[38;5;241m/\u001b[39m\u001b[38;5;241m255.0\u001b[39m, Y_train, epochs\u001b[38;5;241m=\u001b[39mEPOCHS, validation_data\u001b[38;5;241m=\u001b[39m(X_test\u001b[38;5;241m/\u001b[39m\u001b[38;5;241m255.0\u001b[39m, Y_test))\n",
      "File \u001b[0;32m/Library/Frameworks/Python.framework/Versions/3.11/lib/python3.11/site-packages/keras/src/utils/numerical_utils.py:87\u001b[0m, in \u001b[0;36mto_categorical\u001b[0;34m(x, num_classes)\u001b[0m\n\u001b[1;32m     85\u001b[0m         x \u001b[38;5;241m=\u001b[39m backend\u001b[38;5;241m.\u001b[39mnumpy\u001b[38;5;241m.\u001b[39mreshape(x, newshape)\n\u001b[1;32m     86\u001b[0m     \u001b[38;5;28;01mreturn\u001b[39;00m backend\u001b[38;5;241m.\u001b[39mnn\u001b[38;5;241m.\u001b[39mone_hot(x, num_classes)\n\u001b[0;32m---> 87\u001b[0m x \u001b[38;5;241m=\u001b[39m \u001b[43mnp\u001b[49m\u001b[38;5;241;43m.\u001b[39;49m\u001b[43marray\u001b[49m\u001b[43m(\u001b[49m\u001b[43mx\u001b[49m\u001b[43m,\u001b[49m\u001b[43m \u001b[49m\u001b[43mdtype\u001b[49m\u001b[38;5;241;43m=\u001b[39;49m\u001b[38;5;124;43m\"\u001b[39;49m\u001b[38;5;124;43mint64\u001b[39;49m\u001b[38;5;124;43m\"\u001b[39;49m\u001b[43m)\u001b[49m\n\u001b[1;32m     88\u001b[0m input_shape \u001b[38;5;241m=\u001b[39m x\u001b[38;5;241m.\u001b[39mshape\n\u001b[1;32m     90\u001b[0m \u001b[38;5;66;03m# Shrink the last dimension if the shape is (..., 1).\u001b[39;00m\n",
      "\u001b[0;31mValueError\u001b[0m: invalid literal for int() with base 10: 'train/NORMAL'"
     ]
    }
   ],
   "source": [
    "ConvModel = model((64,64,3))\n",
    "\n",
    "ConvModel.compile(\n",
    "    optimizer=\"adam\",\n",
    "    loss=\"binary_crossentropy\",\n",
    "    metrics=[\"accuracy\"]\n",
    ")\n",
    "Y_train_oh = to_categorical(Y_train, num_classes=2)\n",
    "Y_test_oh = to_categorical(Y_test, num_classes=2)\n",
    "\n",
    "history = ConvModel.fit(X_train/255.0, Y_train, epochs=EPOCHS, validation_data=(X_test/255.0, Y_test))\n",
    "ConvModel.summary()\n"
   ]
  },
  {
   "cell_type": "code",
   "execution_count": null,
   "id": "c4fa2d84",
   "metadata": {},
   "outputs": [],
   "source": []
  }
 ],
 "metadata": {
  "kernelspec": {
   "display_name": "Python 3",
   "language": "python",
   "name": "python3"
  },
  "language_info": {
   "codemirror_mode": {
    "name": "ipython",
    "version": 3
   },
   "file_extension": ".py",
   "mimetype": "text/x-python",
   "name": "python",
   "nbconvert_exporter": "python",
   "pygments_lexer": "ipython3",
   "version": "3.11.5"
  }
 },
 "nbformat": 4,
 "nbformat_minor": 5
}
