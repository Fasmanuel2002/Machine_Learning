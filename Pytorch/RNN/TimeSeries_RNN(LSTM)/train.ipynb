{
 "cells": [
  {
   "cell_type": "code",
   "execution_count": 6,
   "id": "49484e2c",
   "metadata": {},
   "outputs": [],
   "source": [
    "import torch\n",
    "from torch import nn\n",
    "import torch.optim as optim\n",
    "from torch.utils.data import TensorDataset, DataLoader\n",
    "\n",
    "import pandas as pd\n",
    "import numpy as np\n",
    "from sklearn.model_selection import train_test_split\n",
    "from sklearn.preprocessing import StandardScaler\n",
    "from sklearn.preprocessing import MinMaxScaler"
   ]
  },
  {
   "cell_type": "code",
   "execution_count": 7,
   "id": "c1123c0b",
   "metadata": {},
   "outputs": [
    {
     "name": "stdout",
     "output_type": "stream",
     "text": [
      "       Period       Revenue  Sales_quantity  Average_cost  \\\n",
      "0  01.01.2015  1.601007e+07         12729.0   1257.763541   \n",
      "1  01.02.2015  1.580759e+07         11636.0   1358.507000   \n",
      "2  01.03.2015  2.204715e+07         15922.0   1384.697024   \n",
      "3  01.04.2015  1.881458e+07         15227.0   1235.606705   \n",
      "4  01.05.2015  1.402148e+07          8620.0   1626.621765   \n",
      "\n",
      "   The_average_annual_payroll_of_the_region  \n",
      "0                                30024676.0  \n",
      "1                                30024676.0  \n",
      "2                                30024676.0  \n",
      "3                                30024676.0  \n",
      "4                                30024676.0  \n"
     ]
    }
   ],
   "source": [
    "df = pd.read_csv(\"Month_value_1.csv\")\n",
    "print(df.head())"
   ]
  },
  {
   "cell_type": "code",
   "execution_count": 8,
   "id": "5378974b",
   "metadata": {},
   "outputs": [
    {
     "name": "stdout",
     "output_type": "stream",
     "text": [
      "Total of Nans: 0.26666666666666666\n"
     ]
    }
   ],
   "source": [
    "values = df.iloc[:, 1:5].values\n",
    "features = values.shape[1]\n",
    "total_df_size = df.size\n",
    "values_Nans = df.isna().sum().sum()\n",
    "print(f\"Total of Nans: {values_Nans / total_df_size}\")"
   ]
  },
  {
   "cell_type": "code",
   "execution_count": null,
   "id": "dcc25bbf",
   "metadata": {},
   "outputs": [],
   "source": [
    "\"\"\"\n",
    "The total Nans of these DataSet is 26.6%\n",
    "We need to fill it out\n",
    "\"\"\""
   ]
  }
 ],
 "metadata": {
  "kernelspec": {
   "display_name": "Python 3",
   "language": "python",
   "name": "python3"
  },
  "language_info": {
   "codemirror_mode": {
    "name": "ipython",
    "version": 3
   },
   "file_extension": ".py",
   "mimetype": "text/x-python",
   "name": "python",
   "nbconvert_exporter": "python",
   "pygments_lexer": "ipython3",
   "version": "3.11.9"
  }
 },
 "nbformat": 4,
 "nbformat_minor": 5
}
