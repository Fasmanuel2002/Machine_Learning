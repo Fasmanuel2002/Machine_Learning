{
 "cells": [
  {
   "cell_type": "code",
   "execution_count": 15,
   "id": "d722ee65",
   "metadata": {},
   "outputs": [],
   "source": [
    "import torch\n",
    "from torch import nn\n",
    "import torch.optim as optim\n",
    "from torch.utils.data import TensorDataset, DataLoader\n",
    "\n",
    "import pandas as pd\n",
    "import numpy as np\n",
    "from sklearn.model_selection import train_test_split\n",
    "from sklearn.preprocessing import StandardScaler\n",
    "from sklearn.metrics import mean_squared_error, mean_absolute_error"
   ]
  },
  {
   "cell_type": "code",
   "execution_count": 16,
   "id": "c512d210",
   "metadata": {},
   "outputs": [
    {
     "name": "stdout",
     "output_type": "stream",
     "text": [
      "   Rings Sex  Length  Diameter  Height  WholeWeight  ShuckedWeight  \\\n",
      "0     15   M   0.455     0.365   0.095       0.5140         0.2245   \n",
      "1      7   M   0.350     0.265   0.090       0.2255         0.0995   \n",
      "2      9   F   0.530     0.420   0.135       0.6770         0.2565   \n",
      "3     10   M   0.440     0.365   0.125       0.5160         0.2155   \n",
      "4      7   I   0.330     0.255   0.080       0.2050         0.0895   \n",
      "\n",
      "   VisceraWeight  ShellWeight  \n",
      "0         0.1010        0.150  \n",
      "1         0.0485        0.070  \n",
      "2         0.1415        0.210  \n",
      "3         0.1140        0.155  \n",
      "4         0.0395        0.055  \n"
     ]
    },
    {
     "name": "stderr",
     "output_type": "stream",
     "text": [
      "/var/folders/64/_d7wbs111535lmdv26qfwp000000gn/T/ipykernel_3053/1162198912.py:4: FutureWarning: Downcasting behavior in `replace` is deprecated and will be removed in a future version. To retain the old behavior, explicitly call `result.infer_objects(copy=False)`. To opt-in to the future behavior, set `pd.set_option('future.no_silent_downcasting', True)`\n",
      "  df[\"Sex\"] = df[\"Sex\"].replace({\"M\":0, \"F\":1, \"I\":2})\n"
     ]
    }
   ],
   "source": [
    "df = pd.read_csv(\"abalone.csv\")\n",
    "print(df.head())\n",
    "\n",
    "df[\"Sex\"] = df[\"Sex\"].replace({\"M\":0, \"F\":1, \"I\":2})\n"
   ]
  },
  {
   "cell_type": "code",
   "execution_count": 17,
   "id": "064830aa",
   "metadata": {},
   "outputs": [],
   "source": [
    "Y = df[\"Rings\"].values\n",
    "X = df.iloc[:, 1:]"
   ]
  },
  {
   "cell_type": "code",
   "execution_count": 18,
   "id": "a01de3bd",
   "metadata": {},
   "outputs": [],
   "source": [
    "scaler = StandardScaler()\n",
    "X_normalize = scaler.fit_transform(X)"
   ]
  },
  {
   "cell_type": "code",
   "execution_count": 19,
   "id": "0c01b196",
   "metadata": {},
   "outputs": [
    {
     "name": "stdout",
     "output_type": "stream",
     "text": [
      "This is the shape of X_train: (2923, 8)\n",
      "This is the shape of Y_train: (2923,)\n",
      "This is the shape of X_test: (1254, 8)\n",
      "This is the shape of Y_Test: (1254,)\n"
     ]
    }
   ],
   "source": [
    "X_train, X_test, Y_train, Y_test = train_test_split(\n",
    "    X_normalize, Y,train_size=0.70, test_size=0.30, random_state=42\n",
    ")\n",
    "\n",
    "print(f\"This is the shape of X_train: {X_train.shape}\")\n",
    "print(f\"This is the shape of Y_train: {Y_train.shape}\")\n",
    "print(f\"This is the shape of X_test: {X_test.shape}\")\n",
    "print(f\"This is the shape of Y_Test: {Y_test.shape}\")"
   ]
  },
  {
   "cell_type": "code",
   "execution_count": 20,
   "id": "80623679",
   "metadata": {},
   "outputs": [],
   "source": [
    "#Convert tensors of Pytorch(the numpy.array of tensorflow)\n",
    "\n",
    "x_train = torch.tensor(X_train, dtype=torch.float32)\n",
    "y_train = torch.tensor(Y_train, dtype=torch.float32)\n",
    "x_test = torch.tensor(X_test, dtype=torch.float32)\n",
    "y_test = torch.tensor(Y_test, dtype=torch.float32)\n",
    "\n",
    "#Making the DataSet , because needs to do it\n",
    "train_dataset = TensorDataset(x_train, y_train)\n",
    "train_loader = DataLoader(train_dataset, batch_size=64, shuffle=True)"
   ]
  },
  {
   "cell_type": "code",
   "execution_count": 27,
   "id": "4e0f802c",
   "metadata": {},
   "outputs": [],
   "source": [
    "#This is defining the function like keras or TensorFlow\n",
    "class FNN_Model_Abalone(nn.Module):\n",
    "    def __init__(self, input_size, output_size):\n",
    "        super(FNN_Model_Abalone, self).__init__()\n",
    "        self.network = nn.Sequential(\n",
    "            nn.Linear(input_size, 256),\n",
    "            nn.ReLU(),\n",
    "            nn.Linear(256, 128),\n",
    "            nn.ReLU(),\n",
    "            nn.Linear(128, output_size)\n",
    "        )\n",
    "        \n",
    "    def forward(self, x):\n",
    "        return self.network(x)"
   ]
  },
  {
   "cell_type": "code",
   "execution_count": 28,
   "id": "f2fbc4e7",
   "metadata": {},
   "outputs": [],
   "source": [
    "#This is the FNN that has the X that are all the input size and the output size\n",
    "model = FNN_Model_Abalone(x_train.shape[1], 1)\n",
    "criterion = nn.MSELoss()\n",
    "optimzer = optim.AdamW(model.parameters(), lr=0.0001)"
   ]
  },
  {
   "cell_type": "code",
   "execution_count": 29,
   "id": "9fa401b6",
   "metadata": {},
   "outputs": [
    {
     "name": "stderr",
     "output_type": "stream",
     "text": [
      "/Library/Frameworks/Python.framework/Versions/3.11/lib/python3.11/site-packages/torch/nn/modules/loss.py:535: UserWarning: Using a target size (torch.Size([64])) that is different to the input size (torch.Size([64, 1])). This will likely lead to incorrect results due to broadcasting. Please ensure they have the same size.\n",
      "  return F.mse_loss(input, target, reduction=self.reduction)\n",
      "/Library/Frameworks/Python.framework/Versions/3.11/lib/python3.11/site-packages/torch/nn/modules/loss.py:535: UserWarning: Using a target size (torch.Size([43])) that is different to the input size (torch.Size([43, 1])). This will likely lead to incorrect results due to broadcasting. Please ensure they have the same size.\n",
      "  return F.mse_loss(input, target, reduction=self.reduction)\n"
     ]
    },
    {
     "name": "stdout",
     "output_type": "stream",
     "text": [
      "Epoch [50/300], Loss: 10.7247\n",
      "Epoch [100/300], Loss: 10.5096\n",
      "Epoch [150/300], Loss: 10.5500\n",
      "Epoch [200/300], Loss: 10.5151\n",
      "Epoch [250/300], Loss: 10.4897\n",
      "Epoch [300/300], Loss: 10.5258\n"
     ]
    }
   ],
   "source": [
    "EPOCHS = 300\n",
    "for epoch in range(EPOCHS):\n",
    "    model.train()\n",
    "    epoch_loss = 0.0\n",
    "    \n",
    "    for batch_x, batch_y in train_loader:\n",
    "        optimzer.zero_grad()\n",
    "        outputs = model(batch_x)\n",
    "        loss = criterion(outputs, batch_y)\n",
    "        loss.backward()\n",
    "        optimzer.step()\n",
    "        epoch_loss += loss.item()\n",
    "        \n",
    "    if(epoch +1) % 50 == 0:\n",
    "        print(f\"Epoch [{epoch+1}/{EPOCHS}], Loss: {epoch_loss/len(train_loader):.4f}\")\n",
    "\n",
    "        "
   ]
  },
  {
   "cell_type": "code",
   "execution_count": 30,
   "id": "f3c6b679",
   "metadata": {},
   "outputs": [
    {
     "name": "stdout",
     "output_type": "stream",
     "text": [
      "\n",
      " Results\n",
      "MSE: 9.9798\n",
      "RMSE: 3.1591\n",
      "MAE: 2.3391\n"
     ]
    }
   ],
   "source": [
    "model.eval()\n",
    "with torch.no_grad():\n",
    "    y_pred = model(x_test).numpy()\n",
    "    \n",
    "mean_squared_error_ = mean_squared_error(y_test.numpy(), y_pred)\n",
    "rmse = np.sqrt(mean_squared_error_)\n",
    "mean_absolute_error_ = mean_absolute_error(y_test.numpy(), y_pred)\n",
    "\n",
    "print(\"\\n Results\")\n",
    "print(f\"MSE: {mean_squared_error_:.4f}\")\n",
    "print(f\"RMSE: {rmse:.4f}\")\n",
    "print(f\"MAE: {mean_absolute_error_:.4f}\")"
   ]
  },
  {
   "cell_type": "code",
   "execution_count": null,
   "id": "01773c18",
   "metadata": {},
   "outputs": [],
   "source": []
  }
 ],
 "metadata": {
  "kernelspec": {
   "display_name": "Python 3",
   "language": "python",
   "name": "python3"
  },
  "language_info": {
   "codemirror_mode": {
    "name": "ipython",
    "version": 3
   },
   "file_extension": ".py",
   "mimetype": "text/x-python",
   "name": "python",
   "nbconvert_exporter": "python",
   "pygments_lexer": "ipython3",
   "version": "3.11.9"
  }
 },
 "nbformat": 4,
 "nbformat_minor": 5
}
