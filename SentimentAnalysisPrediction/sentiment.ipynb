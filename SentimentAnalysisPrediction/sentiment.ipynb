{
 "cells": [
  {
   "cell_type": "code",
   "execution_count": 1,
   "metadata": {},
   "outputs": [],
   "source": [
    "import numpy as np\n",
    "import matplotlib.pyplot as plt\n",
    "import pandas as pd\n",
    "plt.style.use('ggplot')\n",
    "from nltk.sentiment import SentimentIntensityAnalyzer\n",
    "from tqdm import tqdm\n"
   ]
  },
  {
   "cell_type": "code",
   "execution_count": 14,
   "metadata": {},
   "outputs": [
    {
     "name": "stdout",
     "output_type": "stream",
     "text": [
      "I am hurting Lately I just feel like garbage. I havent left the house much in like 2 weeks, and I've been missing class. It all feels too overwhelming for me, but being at home makes me feel like trash too...I cant win. I cant sleep right either. I wake up every other hour and im so tired....\n",
      "\n",
      "I feel so angry and anxious lately too because I feel as if everyone hates me and that they're happier without me. My friends hardly talk to me lately. I see them on social media chatting and making plans to call/play games and im never included lately. Im not surprised though. Who'd want to be friends with someone as depressed and broken as me?\n",
      "\n",
      "I want to crawl in a hole and disappear :(\n"
     ]
    }
   ],
   "source": [
    "df = pd.read_csv(\"SentimentAnalysis.csv\")\n",
    "example = df['statement'][50659]\n",
    "print(example)"
   ]
  },
  {
   "cell_type": "code",
   "execution_count": 15,
   "metadata": {},
   "outputs": [
    {
     "name": "stdout",
     "output_type": "stream",
     "text": [
      "{'neg': 0.273, 'neu': 0.638, 'pos': 0.089, 'compound': -0.9853}\n",
      "I am hurting Lately I just feel like garbage. I havent left the house much in like 2 weeks, and I've been missing class. It all feels too overwhelming for me, but being at home makes me feel like trash too...I cant win. I cant sleep right either. I wake up every other hour and im so tired....\n",
      "\n",
      "I feel so angry and anxious lately too because I feel as if everyone hates me and that they're happier without me. My friends hardly talk to me lately. I see them on social media chatting and making plans to call/play games and im never included lately. Im not surprised though. Who'd want to be friends with someone as depressed and broken as me?\n",
      "\n",
      "I want to crawl in a hole and disappear :(\n"
     ]
    }
   ],
   "source": [
    "    \n",
    "sia = SentimentIntensityAnalyzer()\n",
    "print(sia.polarity_scores(example))\n",
    "print(example)"
   ]
  },
  {
   "cell_type": "code",
   "execution_count": null,
   "metadata": {},
   "outputs": [
    {
     "name": "stderr",
     "output_type": "stream",
     "text": [
      " 72%|███████▏  | 38088/53043 [00:39<00:10, 1389.72it/s]"
     ]
    }
   ],
   "source": [
    "\n",
    "res = {}\n",
    "for i, rows in tqdm(df.iterrows(),total=len(df)):\n",
    "    feelings_rows = rows['statement']\n",
    "    id_rows = rows['id']\n",
    "    res[id_rows] = sia.polarity_scores(repr(feelings_rows))    \n",
    "res"
   ]
  },
  {
   "cell_type": "code",
   "execution_count": null,
   "metadata": {},
   "outputs": [],
   "source": [
    "vaders = pd.DataFrame(res).T\n",
    "vaders = vaders.reset_index().rename(columns={'index': 'id'})\n",
    "vaders = vaders.merge(df,how='left')"
   ]
  },
  {
   "cell_type": "code",
   "execution_count": null,
   "metadata": {},
   "outputs": [
    {
     "name": "stdout",
     "output_type": "stream",
     "text": [
      "0.14358912580359331,this is the mean of the negative\n",
      "0.11337797635880324,this is the mean of the positive\n",
      "0.7430331052165223,this is the mean of the Neutral\n"
     ]
    }
   ],
   "source": [
    "vaders.head()"
   ]
  },
  {
   "cell_type": "code",
   "execution_count": null,
   "metadata": {},
   "outputs": [],
   "source": [
    "\n",
    "\n",
    "print(f\"{vaders['neg'].mean()},this is the mean of the negative\")\n",
    "print(f\"{vaders['pos'].mean()},this is the mean of the positive\")\n",
    "print(f\"{vaders['neu'].mean()},this is the mean of the Neutral\")\n"
   ]
  }
 ],
 "metadata": {
  "kernelspec": {
   "display_name": "Python 3",
   "language": "python",
   "name": "python3"
  },
  "language_info": {
   "codemirror_mode": {
    "name": "ipython",
    "version": 3
   },
   "file_extension": ".py",
   "mimetype": "text/x-python",
   "name": "python",
   "nbconvert_exporter": "python",
   "pygments_lexer": "ipython3",
   "version": "3.11.5"
  }
 },
 "nbformat": 4,
 "nbformat_minor": 4
}
